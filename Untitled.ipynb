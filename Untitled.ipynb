{
 "cells": [
  {
   "cell_type": "code",
   "execution_count": 8,
   "id": "412bfea8-db52-4f5e-9469-74cb8b80960b",
   "metadata": {},
   "outputs": [],
   "source": [
    "from jax import numpy as jnp\n",
    "from jax.tree_util import tree_flatten, tree_unflatten"
   ]
  },
  {
   "cell_type": "code",
   "execution_count": 9,
   "id": "3b5a7da3-1872-4ed5-8d67-68def139cd21",
   "metadata": {},
   "outputs": [],
   "source": [
    "def show_example(structured):\n",
    "    flat, tree = tree_flatten(structured)\n",
    "    unflattened = tree_unflatten(tree, flat)\n",
    "    print(\"structured={}\\n  flat={}\\n  tree={}\\n  unflattened={}\".format(\n",
    "        structured, flat, tree, unflattened))"
   ]
  },
  {
   "cell_type": "code",
   "execution_count": 21,
   "id": "488c3825-a035-45f4-b414-c299a3d9738f",
   "metadata": {},
   "outputs": [],
   "source": [
    "class Fourier(object):\n",
    "    def __init__(self, ext_params={\"bias\": 1.0}):\n",
    "        self.params = jnp.array([1, 2, 3])\n",
    "        self.aux = ext_params\n",
    "        \n",
    "    def __call__(self, x):\n",
    "        return self.params + x + self.aux[\"bias\"]\n",
    "\n",
    "    def __repr__(self):\n",
    "        return f\"Fourier {self.params}\"\n",
    "    \n",
    "my_field = Fourier()"
   ]
  },
  {
   "cell_type": "code",
   "execution_count": 28,
   "id": "4aeeea91-6dcd-43d1-83d9-9e3d9bd5c92b",
   "metadata": {},
   "outputs": [
    {
     "data": {
      "text/plain": [
       "DeviceArray([1, 2, 3], dtype=int32)"
      ]
     },
     "execution_count": 28,
     "metadata": {},
     "output_type": "execute_result"
    }
   ],
   "source": [
    "my_field.params"
   ]
  },
  {
   "cell_type": "code",
   "execution_count": 22,
   "id": "2562a9a6-acb9-4e48-b223-ab51f4e40996",
   "metadata": {},
   "outputs": [
    {
     "data": {
      "text/plain": [
       "Fourier [1 2 3]"
      ]
     },
     "execution_count": 22,
     "metadata": {},
     "output_type": "execute_result"
    }
   ],
   "source": [
    "my_field"
   ]
  },
  {
   "cell_type": "code",
   "execution_count": 23,
   "id": "bc2eb9b0-d75b-4a87-9508-a30666e5a8d6",
   "metadata": {},
   "outputs": [
    {
     "name": "stdout",
     "output_type": "stream",
     "text": [
      "structured=Fourier [1 2 3]\n",
      "  flat=[Fourier [1 2 3]]\n",
      "  tree=PyTreeDef(*)\n",
      "  unflattened=Fourier [1 2 3]\n"
     ]
    }
   ],
   "source": [
    "show_example(my_field)"
   ]
  },
  {
   "cell_type": "code",
   "execution_count": 81,
   "id": "4804378f-64b9-48de-9b92-a62afd4789eb",
   "metadata": {},
   "outputs": [],
   "source": [
    "from jax.tree_util import register_pytree_node\n",
    "from jax.tree_util import register_pytree_node_class\n",
    "\n",
    "@register_pytree_node_class\n",
    "class RegisteredFourier(Fourier):\n",
    "    def __repr__(self):\n",
    "        return f\"Registered Fourier {self.params}\"\n",
    "    \n",
    "    def tree_flatten(self):\n",
    "        children = self.params\n",
    "        print(children.__repr__())\n",
    "        aux_data = self.aux\n",
    "        return (children, aux_data)\n",
    "    \n",
    "    @classmethod\n",
    "    def tree_unflatten(cls, aux_data, children):\n",
    "        a = cls(aux_data)\n",
    "        print(a.params.__repr__())\n",
    "        a.params = children\n",
    "        print(a.params.__repr__())\n",
    "        return a"
   ]
  },
  {
   "cell_type": "code",
   "execution_count": 82,
   "id": "846db23f-fcd4-4d5e-8c6d-f4d52c32b4bc",
   "metadata": {},
   "outputs": [],
   "source": [
    "my_field_reg = RegisteredFourier()"
   ]
  },
  {
   "cell_type": "code",
   "execution_count": 83,
   "id": "b3dd5d23-761c-49de-a3eb-dfdabb8a942a",
   "metadata": {},
   "outputs": [
    {
     "data": {
      "text/plain": [
       "Registered Fourier [1 2 3]"
      ]
     },
     "execution_count": 83,
     "metadata": {},
     "output_type": "execute_result"
    }
   ],
   "source": [
    "my_field_reg"
   ]
  },
  {
   "cell_type": "code",
   "execution_count": 84,
   "id": "3ed59f3e-a723-4e8b-b4cf-be2f250f4575",
   "metadata": {},
   "outputs": [
    {
     "name": "stdout",
     "output_type": "stream",
     "text": [
      "DeviceArray([1, 2, 3], dtype=int32)\n",
      "DeviceArray([1, 2, 3], dtype=int32)\n",
      "(DeviceArray(1, dtype=int32), DeviceArray(2, dtype=int32), DeviceArray(3, dtype=int32))\n",
      "structured=Registered Fourier [1 2 3]\n",
      "  flat=[DeviceArray(1, dtype=int32), DeviceArray(2, dtype=int32), DeviceArray(3, dtype=int32)]\n",
      "  tree=PyTreeDef(CustomNode(<class '__main__.RegisteredFourier'>[{'bias': 1.0}], [*, *, *]))\n",
      "  unflattened=Registered Fourier (DeviceArray(1, dtype=int32), DeviceArray(2, dtype=int32), DeviceArray(3, dtype=int32))\n"
     ]
    }
   ],
   "source": [
    "show_example(my_field_reg)"
   ]
  },
  {
   "cell_type": "code",
   "execution_count": null,
   "id": "4b5cc625-8048-497f-afd6-d5878e8d44be",
   "metadata": {},
   "outputs": [],
   "source": [
    "from jax import jit\n",
    "\n",
    "def fun(u):\n",
    "    return u + 1"
   ]
  }
 ],
 "metadata": {
  "kernelspec": {
   "display_name": "Python 3 (ipykernel)",
   "language": "python",
   "name": "python3"
  },
  "language_info": {
   "codemirror_mode": {
    "name": "ipython",
    "version": 3
   },
   "file_extension": ".py",
   "mimetype": "text/x-python",
   "name": "python",
   "nbconvert_exporter": "python",
   "pygments_lexer": "ipython3",
   "version": "3.9.7"
  }
 },
 "nbformat": 4,
 "nbformat_minor": 5
}
