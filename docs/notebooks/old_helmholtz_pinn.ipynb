{
 "cells": [
  {
   "cell_type": "markdown",
   "metadata": {},
   "source": [
    "# Solving Helmholtz equation with PINNs"
   ]
  },
  {
   "cell_type": "code",
   "execution_count": 1,
   "metadata": {},
   "outputs": [],
   "source": [
    "from matplotlib import pyplot as plt\n",
    "\n",
    "from jaxdf.geometry import Domain\n",
    "from jaxdf import operators as jops\n",
    "from jaxdf.core import operator\n",
    "from jax import numpy as jnp\n",
    "import jax"
   ]
  },
  {
   "cell_type": "markdown",
   "metadata": {},
   "source": [
    "The equation we want to simulate is\n",
    "\n",
    "$$\n",
    "\\left(\\nabla^2 - \\frac{\\omega^2}{c^2} \\right)u = - i\\omega S_M\n",
    "$$\n",
    "\n",
    "Furthermore, to enforce the Sommerfield radiation conditions, the components of the spatial differential operators are modified as [[1]](http://oomph-lib.maths.man.ac.uk/doc/pml_helmholtz/scattering/latex/refman.pdf):\n",
    "\n",
    "$$\n",
    "\\partial_{x_j} = \\frac{\\partial_{x_j}}{\\gamma_j}\n",
    "$$\n",
    "\n",
    "where\n",
    "\n",
    "$$\n",
    "\\gamma_j = 1 + \\frac{\\sigma_j(x)}{k_0}, \\qquad \\sigma_j(x) = \\begin{cases}\n",
    "\\frac{\\sigma^*\\|x_j - \\Delta_{PML}\\|^\\alpha}{\\Delta_{PML}}, & \\|x\\| > \\Delta_{PML}\\\\\n",
    "0, & \\text{otherwise} \\\\\n",
    "\\end{cases}$$\n",
    "\n",
    "Let's start by building up the $\\sigma$ function"
   ]
  },
  {
   "cell_type": "code",
   "execution_count": 2,
   "metadata": {},
   "outputs": [],
   "source": [
    "domain = Domain((256, 256), (1., 1.))\n",
    "omega = .2"
   ]
  },
  {
   "cell_type": "code",
   "execution_count": 3,
   "metadata": {},
   "outputs": [],
   "source": [
    "from jaxdf.discretization import Coordinate\n",
    "from jaxdf.core import Field\n",
    "\n",
    "coordinate_discr = Coordinate(domain)\n",
    "X = Field(coordinate_discr, params={}, name=\"X\")\n",
    "\n",
    "# Define PML Function\n",
    "delta_pml = 100.\n",
    "def sigma(X):\n",
    "    on_pml = jops.elementwise(\n",
    "        lambda x: jnp.where(\n",
    "            jnp.abs(x) > delta_pml,\n",
    "            (jnp.abs(jnp.abs(x)-delta_pml)/(128. - delta_pml)), \n",
    "            0.)\n",
    "    )\n",
    "    return 4.*on_pml(X)**2\n",
    "\n",
    "def pml_factor(X):\n",
    "    return 1./(1 + 1j*sigma(X)/omega)\n",
    "\n",
    "# Define laplacian with PML\n",
    "def laplacian(u, x):\n",
    "    pml = pml_factor(x)\n",
    "    grad_u = jops.gradient(u)\n",
    "    mod_grad_u = grad_u*pml\n",
    "    mod_diag_jacobian = jops.diag_jacobian(mod_grad_u)*pml\n",
    "    return jops.sum_over_dims(mod_diag_jacobian)\n",
    "\n",
    "@operator()\n",
    "def helmholtz(u, c, x):\n",
    "    # Get the modified laplacian\n",
    "    L = laplacian(u, x)\n",
    "    \n",
    "    # Add the wavenumber term\n",
    "    k = ((omega/c)**2)*u\n",
    "    \n",
    "    return L + k"
   ]
  },
  {
   "cell_type": "code",
   "execution_count": 82,
   "metadata": {},
   "outputs": [],
   "source": [
    "from jaxdf.discretization import Arbitrary, UniformField\n",
    "from jax.experimental import stax\n",
    "from jax import random\n",
    "\n",
    "seed = random.PRNGKey(42)\n",
    "\n",
    "# Make a neural network for the field discretization\n",
    "Sin = stax.elementwise(jnp.tanh)\n",
    "init_random_params, predict = stax.serial(\n",
    "    stax.Dense(512), \n",
    "    Sin, \n",
    "    stax.Dense(512), \n",
    "    Sin, \n",
    "    stax.Dense(512), \n",
    "    Sin, \n",
    "    stax.Dense(512), \n",
    "    Sin, \n",
    "    stax.Dense(512), \n",
    "    Sin, \n",
    "    stax.Dense(2)\n",
    ")\n",
    "\n",
    "def init_params(seed, domain):\n",
    "    return init_random_params(seed, (len(domain.N),))[1]\n",
    "\n",
    "def get_fun(params, x):\n",
    "    x = x\n",
    "    p = predict(params, x)\n",
    "    return jnp.asarray([p[0] + 1j*p[1]])\n",
    "\n",
    "u_discr = Arbitrary(domain, get_fun, init_params)\n",
    "u_params, u = u_discr.random_field(seed, name='u')\n",
    "\n",
    "# Narrow gaussian pulse as source\n",
    "def init_params(seed, domain):\n",
    "    return {}\n",
    "\n",
    "def gaussian_func(params, x):\n",
    "    x = x + jnp.asarray([50,50])\n",
    "    return jnp.expand_dims(jnp.exp(-jnp.sum(x**2)/16) + 0*1j, -1)\n",
    "\n",
    "src_discr = Arbitrary(domain, gaussian_func, init_params)\n",
    "src_params, src = src_discr.random_field(seed, name='src')\n",
    "\n",
    "# Arbitrary Speed of Sound map\n",
    "def init_params(seed, domain):\n",
    "    return {}\n",
    "\n",
    "def sos_func(params, x):\n",
    "    x = x - jnp.asarray([32,32])\n",
    "    x = jnp.exp(-jnp.sum(x**2)/2048)\n",
    "    x = jnp.where(jnp.abs(x)>0.5, 1., 0.)\n",
    "    return jnp.expand_dims(x + 1., -1)\n",
    "                  \n",
    "c_discr = Arbitrary(domain, sos_func, init_params)\n",
    "c_params, c = c_discr.random_field(seed, name='c')"
   ]
  },
  {
   "cell_type": "code",
   "execution_count": 83,
   "metadata": {},
   "outputs": [
    {
     "data": {
      "text/plain": [
       "<matplotlib.colorbar.Colorbar at 0x7f73b973bbb0>"
      ]
     },
     "execution_count": 83,
     "metadata": {},
     "output_type": "execute_result"
    },
    {
     "data": {
      "image/png": "[encoded data removed]",
      "text/plain": [
       "<Figure size 432x288 with 2 Axes>"
      ]
     },
     "metadata": {
      "needs_background": "light"
     },
     "output_type": "display_data"
    }
   ],
   "source": [
    "sos_map = c_discr.get_field_on_grid()({})\n",
    "plt.imshow(sos_map)\n",
    "plt.colorbar()"
   ]
  },
  {
   "cell_type": "code",
   "execution_count": 84,
   "metadata": {},
   "outputs": [
    {
     "data": {
      "text/plain": [
       "<matplotlib.colorbar.Colorbar at 0x7f73b96699d0>"
      ]
     },
     "execution_count": 84,
     "metadata": {},
     "output_type": "execute_result"
    },
    {
     "data": {
      "image/png": "[encoded data removed]",
      "text/plain": [
       "<Figure size 432x288 with 2 Axes>"
      ]
     },
     "metadata": {
      "needs_background": "light"
     },
     "output_type": "display_data"
    }
   ],
   "source": [
    "src_map = src_discr.get_field_on_grid()({})\n",
    "plt.imshow(src_map.real)\n",
    "plt.colorbar()"
   ]
  },
  {
   "cell_type": "code",
   "execution_count": 85,
   "metadata": {},
   "outputs": [],
   "source": [
    "Hu = helmholtz(u=u, c=c, x=X)\n",
    "global_params = Hu.get_global_params()"
   ]
  },
  {
   "cell_type": "code",
   "execution_count": 86,
   "metadata": {},
   "outputs": [],
   "source": [
    "f = Hu.get_field(0)"
   ]
  },
  {
   "cell_type": "code",
   "execution_count": 87,
   "metadata": {},
   "outputs": [
    {
     "data": {
      "text/plain": [
       "DeviceArray([-0.00686442-0.01092288j], dtype=complex64)"
      ]
     },
     "execution_count": 87,
     "metadata": {},
     "output_type": "execute_result"
    }
   ],
   "source": [
    "x = jnp.asarray([2.,2.])\n",
    "f(global_params,{\"u\": u_params, \"c\":c_params, \"x\":{}}, x)"
   ]
  },
  {
   "cell_type": "code",
   "execution_count": 88,
   "metadata": {},
   "outputs": [
    {
     "data": {
      "text/plain": [
       "<matplotlib.collections.PathCollection at 0x7f73b95a4610>"
      ]
     },
     "execution_count": 88,
     "metadata": {},
     "output_type": "execute_result"
    },
    {
     "data": {
      "image/png": "[encoded data removed]",
      "text/plain": [
       "<Figure size 432x288 with 1 Axes>"
      ]
     },
     "metadata": {
      "needs_background": "light"
     },
     "output_type": "display_data"
    }
   ],
   "source": [
    "boundary_sampler = domain.boundary_sampler\n",
    "x = boundary_sampler(seed, 200)\n",
    "plt.scatter(x[:,0],x[:,1])"
   ]
  },
  {
   "cell_type": "code",
   "execution_count": 89,
   "metadata": {},
   "outputs": [
    {
     "data": {
      "text/plain": [
       "<matplotlib.collections.PathCollection at 0x7f73b9f05be0>"
      ]
     },
     "execution_count": 89,
     "metadata": {},
     "output_type": "execute_result"
    },
    {
     "data": {
      "image/png": "[encoded data removed]",
      "text/plain": [
       "<Figure size 432x288 with 1 Axes>"
      ]
     },
     "metadata": {
      "needs_background": "light"
     },
     "output_type": "display_data"
    }
   ],
   "source": [
    "domain_sampler = domain.domain_sampler()\n",
    "x = domain_sampler(seed, 200)\n",
    "plt.scatter(x[:,0],x[:,1])"
   ]
  },
  {
   "cell_type": "code",
   "execution_count": 90,
   "metadata": {},
   "outputs": [],
   "source": [
    "from jax import value_and_grad\n",
    "\n",
    "f = Hu.get_field(0)\n",
    "def helmholtz_fun(params, x):\n",
    "    return f(global_params,{\"u\": params, \"c\":c_params, \"x\":{}}, x)\n",
    "\n",
    "# Defining losses\n",
    "field = u_discr.get_field()\n",
    "source_f = src.get_field()\n",
    "def boundary_loss(params, seed, batchsize):\n",
    "    x = boundary_sampler(seed, batchsize)\n",
    "    field_val = jax.vmap(field, in_axes=(None,0))(params,x)\n",
    "    return jnp.sum(jnp.abs(field_val)**2)\n",
    "\n",
    "def domain_loss(params, seed, batchsize):\n",
    "    x = domain_sampler(seed, batchsize)\n",
    "    helm_val = jax.vmap(helmholtz_fun, in_axes=(None,0))(params,x)\n",
    "    src_val = jax.vmap(source_f, in_axes=(None,0))(None, x)\n",
    "    return jnp.sum(jnp.abs(src_val + helm_val)**2)\n",
    "\n",
    "bound_valandgrad = value_and_grad(boundary_loss)\n",
    "domain_valandgrad = value_and_grad(domain_loss)"
   ]
  },
  {
   "cell_type": "code",
   "execution_count": 91,
   "metadata": {},
   "outputs": [],
   "source": [
    "import wandb"
   ]
  },
  {
   "cell_type": "code",
   "execution_count": 92,
   "metadata": {},
   "outputs": [],
   "source": [
    "def log_image(wandb, field, name, step):\n",
    "    plt.imshow(field[...,0].real, cmap='bone')\n",
    "    plt.colorbar()\n",
    "    img = wandb.Image(plt)\n",
    "    wandb.log({name: img}, step=step)\n",
    "    plt.close()"
   ]
  },
  {
   "cell_type": "code",
   "execution_count": 93,
   "metadata": {},
   "outputs": [],
   "source": [
    "from jax.experimental import optimizers\n",
    "from jax.tree_util import tree_multimap\n",
    "from jax import jit\n",
    "from tqdm import tqdm\n",
    "\n",
    "losshistory = []\n",
    "batch_size = 512\n",
    "\n",
    "init_fun, update_fun, get_params = optimizers.adam(.0001, b1=0.9, b2=0.99)\n",
    "opt_state = init_fun(u_params)\n",
    "\n",
    "@jit\n",
    "def update(opt_state, seed, k):\n",
    "    params = get_params(opt_state)\n",
    "    seeds = random.split(seed, 2)\n",
    "    \n",
    "    # losses\n",
    "    boundary_loss, b_gradient = bound_valandgrad(params, seeds[0], batch_size)\n",
    "    domain_loss, d_gradient = domain_valandgrad(params, seeds[1], batch_size)\n",
    "    gradient = tree_multimap(lambda x,y: 0.01*x+y, b_gradient, d_gradient)\n",
    "    \n",
    "    return boundary_loss, domain_loss, update_fun(k, gradient, opt_state)\n"
   ]
  },
  {
   "cell_type": "code",
   "execution_count": null,
   "metadata": {},
   "outputs": [
    {
     "name": "stderr",
     "output_type": "stream",
     "text": [
      "  0%|                         | 0/100000 [00:00<?, ?it/s]"
     ]
    },
    {
     "data": {
      "text/html": [
       "Finishing last run (ID:6wsv1r8t) before initializing another..."
      ],
      "text/plain": [
       "<IPython.core.display.HTML object>"
      ]
     },
     "metadata": {},
     "output_type": "display_data"
    },
    {
     "data": {
      "text/html": [
       "<br/>Waiting for W&B process to finish, PID 3579903<br/>Program ended successfully."
      ],
      "text/plain": [
       "<IPython.core.display.HTML object>"
      ]
     },
     "metadata": {},
     "output_type": "display_data"
    },
    {
     "data": {
      "text/html": [
       "Find user logs for this run at: <code>/home/antonios/repos/jaxdiff/docs/notebooks/wandb/run-20210909_185549-6wsv1r8t/logs/debug.log</code>"
      ],
      "text/plain": [
       "<IPython.core.display.HTML object>"
      ]
     },
     "metadata": {},
     "output_type": "display_data"
    },
    {
     "data": {
      "text/html": [
       "Find internal logs for this run at: <code>/home/antonios/repos/jaxdiff/docs/notebooks/wandb/run-20210909_185549-6wsv1r8t/logs/debug-internal.log</code>"
      ],
      "text/plain": [
       "<IPython.core.display.HTML object>"
      ]
     },
     "metadata": {},
     "output_type": "display_data"
    },
    {
     "data": {
      "text/html": [
       "<h3>Run summary:</h3><br/><style>\n",
       "    table.wandb td:nth-child(1) { padding: 0 10px; text-align: right }\n",
       "    </style><table class=\"wandb\">\n",
       "<tr><td>boundary_loss</td><td>0.19193</td></tr><tr><td>domain_loss</td><td>0.06857</td></tr><tr><td>_runtime</td><td>4448</td></tr><tr><td>_timestamp</td><td>1631214601</td></tr><tr><td>_step</td><td>99999</td></tr></table>"
      ],
      "text/plain": [
       "<IPython.core.display.HTML object>"
      ]
     },
     "metadata": {},
     "output_type": "display_data"
    },
    {
     "data": {
      "text/html": [
       "<h3>Run history:</h3><br/><style>\n",
       "    table.wandb td:nth-child(1) { padding: 0 10px; text-align: right }\n",
       "    </style><table class=\"wandb\">\n",
       "<tr><td>boundary_loss</td><td>█▆▆▄▃▃▃▃▄▃▄▃▄▄▅▂▅▅▃▅▃▂▂▂▁▁▂▁▁▁▁▂▂▂▃▂▂▃▃▂</td></tr><tr><td>domain_loss</td><td>█▆▅▄▅▇▄▄▄▄▆▄▆▄▅▂▆▄▃▇▃▂▂▃▂▁▃▂▁▃▂▃▂▆▄▂▃▃▃▂</td></tr><tr><td>_runtime</td><td>▁▁▁▁▁▁▁▁▁▁▁▁▁▁▂▂▂▂▂▂▂▂▂▂▂▂▂▂▂▂▂▂▂▂▂▂▂▂▂█</td></tr><tr><td>_timestamp</td><td>▁▁▁▁▁▁▁▁▁▁▁▁▁▁▂▂▂▂▂▂▂▂▂▂▂▂▂▂▂▂▂▂▂▂▂▂▂▂▂█</td></tr><tr><td>_step</td><td>▁▁▁▁▂▂▂▂▂▃▃▃▃▃▃▄▄▄▄▄▄▅▅▅▅▅▆▆▆▆▆▆▇▇▇▇▇███</td></tr></table><br/>"
      ],
      "text/plain": [
       "<IPython.core.display.HTML object>"
      ]
     },
     "metadata": {},
     "output_type": "display_data"
    },
    {
     "data": {
      "text/html": [
       "Synced 5 W&B file(s), 200 media file(s), 0 artifact file(s) and 0 other file(s)"
      ],
      "text/plain": [
       "<IPython.core.display.HTML object>"
      ]
     },
     "metadata": {},
     "output_type": "display_data"
    },
    {
     "data": {
      "text/html": [
       "\n",
       "                    <br/>Synced <strong style=\"color:#cdcd00\">colorful-jazz-115</strong>: <a href=\"https://wandb.ai/rpfeynman/helmholtz-pinn/runs/6wsv1r8t\" target=\"_blank\">https://wandb.ai/rpfeynman/helmholtz-pinn/runs/6wsv1r8t</a><br/>\n",
       "                "
      ],
      "text/plain": [
       "<IPython.core.display.HTML object>"
      ]
     },
     "metadata": {},
     "output_type": "display_data"
    },
    {
     "data": {
      "text/html": [
       "...Successfully finished last run (ID:6wsv1r8t). Initializing new run:<br/><br/>"
      ],
      "text/plain": [
       "<IPython.core.display.HTML object>"
      ]
     },
     "metadata": {},
     "output_type": "display_data"
    },
    {
     "name": "stderr",
     "output_type": "stream",
     "text": [
      "\u001b[34m\u001b[1mwandb\u001b[0m: wandb version 0.12.1 is available!  To upgrade, please run:\n",
      "\u001b[34m\u001b[1mwandb\u001b[0m:  $ pip install wandb --upgrade\n",
      "\n",
      "CondaError: Expected exactly one `egg-info` directory in '/home/antonios/repos/jaxdiff', via egg-link 'lib/python3.8/site-packages/jaxdf.egg-link'. Instead found: ('jde.egg-info', 'jaxdiff.egg-info', 'jaxdf.egg-info').  These are often left over from legacy operations that did not clean up correctly.  Please remove all but one of these.\n",
      "\n"
     ]
    },
    {
     "data": {
      "text/html": [
       "\n",
       "                Tracking run with wandb version 0.12.0<br/>\n",
       "                Syncing run <strong style=\"color:#cdcd00\">denim-thunder-116</strong> to <a href=\"https://wandb.ai\" target=\"_blank\">Weights & Biases</a> <a href=\"https://docs.wandb.com/integrations/jupyter.html\" target=\"_blank\">(Documentation)</a>.<br/>\n",
       "                Project page: <a href=\"https://wandb.ai/rpfeynman/helmholtz-pinn\" target=\"_blank\">https://wandb.ai/rpfeynman/helmholtz-pinn</a><br/>\n",
       "                Run page: <a href=\"https://wandb.ai/rpfeynman/helmholtz-pinn/runs/12gq690a\" target=\"_blank\">https://wandb.ai/rpfeynman/helmholtz-pinn/runs/12gq690a</a><br/>\n",
       "                Run data is saved locally in <code>/home/antonios/repos/jaxdiff/docs/notebooks/wandb/run-20210909_201001-12gq690a</code><br/><br/>\n",
       "            "
      ],
      "text/plain": [
       "<IPython.core.display.HTML object>"
      ]
     },
     "metadata": {},
     "output_type": "display_data"
    },
    {
     "name": "stderr",
     "output_type": "stream",
     "text": [
      "B: -0.7341 | D: -1.5561:  42%|▍| 41841/100000 [06:22<08:4"
     ]
    }
   ],
   "source": [
    "\n",
    "pbar = tqdm(range(100000))\n",
    "tol = 1e-3\n",
    "rng = seed\n",
    "\n",
    "wandb.init(project=\"helmholtz-pinn\")\n",
    "\n",
    "boundary_loss_h = 0.\n",
    "domain_loss_h = 0.\n",
    "for k in pbar:\n",
    "    rng, seed = random.split(rng,2)\n",
    "    boundary_loss, domain_loss, opt_state = update(opt_state, seed, k)\n",
    "    losshistory.append(domain_loss)\n",
    "\n",
    "    # For logging\n",
    "    boundary_loss_h = boundary_loss_h + boundary_loss\n",
    "    domain_loss_h = domain_loss_h + domain_loss\n",
    "    if (k+1) % 200 == 0:\n",
    "        boundary_loss_h = boundary_loss_h / 200.\n",
    "        domain_loss_h = domain_loss_h / 200.\n",
    "        wandb.log({'boundary_loss': boundary_loss_h, 'domain_loss': domain_loss_h}, step=k)\n",
    "        pbar.set_description(\"B: {:01.4f} | D: {:01.4f}\".format(\n",
    "            jnp.log10(boundary_loss), \n",
    "            jnp.log10(domain_loss)\n",
    "        ))\n",
    "        boundary_loss_h = 0.\n",
    "        domain_loss_h = 0.\n",
    "        \n",
    "    if (k+1) % 500 == 0:\n",
    "        # Logging image\n",
    "        f_grid = u_discr.get_field_on_grid()\n",
    "        V = f_grid(get_params(opt_state))\n",
    "        log_image(wandb, V, \"wavefield\", k)\n"
   ]
  },
  {
   "cell_type": "code",
   "execution_count": 77,
   "metadata": {},
   "outputs": [],
   "source": [
    "f_grid = u_discr.get_field_on_grid()"
   ]
  },
  {
   "cell_type": "code",
   "execution_count": 78,
   "metadata": {},
   "outputs": [],
   "source": [
    "V = f_grid(get_params(opt_state))"
   ]
  },
  {
   "cell_type": "code",
   "execution_count": 79,
   "metadata": {},
   "outputs": [
    {
     "data": {
      "text/plain": [
       "<matplotlib.colorbar.Colorbar at 0x7f73b1449940>"
      ]
     },
     "execution_count": 79,
     "metadata": {},
     "output_type": "execute_result"
    },
    {
     "data": {
      "image/png": "[encoded data removed]",
      "text/plain": [
       "<Figure size 432x288 with 2 Axes>"
      ]
     },
     "metadata": {
      "needs_background": "light"
     },
     "output_type": "display_data"
    }
   ],
   "source": [
    "plt.imshow(V[...,0].real, cmap=\"seismic\")\n",
    "plt.colorbar()"
   ]
  },
  {
   "cell_type": "code",
   "execution_count": 80,
   "metadata": {},
   "outputs": [],
   "source": [
    "def init_params(seed, domain):\n",
    "    return init_random_params(seed, (len(domain.N),))[1]\n",
    "\n",
    "def get_fun(params, x):\n",
    "    x = x/64.\n",
    "    p = predict(params, x)\n",
    "    return p\n",
    "\n",
    "u_discr_separate = Arbitrary(domain, get_fun, init_params)"
   ]
  },
  {
   "cell_type": "code",
   "execution_count": 81,
   "metadata": {},
   "outputs": [
    {
     "data": {
      "text/plain": [
       "<matplotlib.colorbar.Colorbar at 0x7f73b9f85700>"
      ]
     },
     "execution_count": 81,
     "metadata": {},
     "output_type": "execute_result"
    },
    {
     "data": {
      "image/png": "[encoded data removed]",
      "text/plain": [
       "<Figure size 432x288 with 2 Axes>"
      ]
     },
     "metadata": {
      "needs_background": "light"
     },
     "output_type": "display_data"
    }
   ],
   "source": [
    "f_grid = u_discr_separate.get_field_on_grid()\n",
    "V = f_grid(get_params(opt_state))\n",
    "plt.imshow(V[...,1], cmap=\"inferno\")\n",
    "plt.colorbar()"
   ]
  },
  {
   "cell_type": "code",
   "execution_count": 21,
   "metadata": {},
   "outputs": [
    {
     "data": {
      "text/plain": [
       "[<matplotlib.lines.Line2D at 0x7f04b1e7a6d0>]"
      ]
     },
     "execution_count": 21,
     "metadata": {},
     "output_type": "execute_result"
    },
    {
     "data": {
      "image/png": "[encoded data removed]",
      "text/plain": [
       "<Figure size 432x288 with 1 Axes>"
      ]
     },
     "metadata": {
      "needs_background": "light"
     },
     "output_type": "display_data"
    },
    {
     "data": {
      "text/html": [
       "<br/>Waiting for W&B process to finish, PID 3598843<br/>Program ended successfully."
      ],
      "text/plain": [
       "<IPython.core.display.HTML object>"
      ]
     },
     "metadata": {},
     "output_type": "display_data"
    }
   ],
   "source": [
    "plt.plot(jnp.log10(jnp.asarray(losshistory)[::100]))"
   ]
  }
 ],
 "metadata": {
  "kernelspec": {
   "display_name": "Python 3 (ipykernel)",
   "language": "python",
   "name": "python3"
  },
  "language_info": {
   "codemirror_mode": {
    "name": "ipython",
    "version": 3
   },
   "file_extension": ".py",
   "mimetype": "text/x-python",
   "name": "python",
   "nbconvert_exporter": "python",
   "pygments_lexer": "ipython3",
   "version": "3.8.10"
  }
 },
 "nbformat": 4,
 "nbformat_minor": 4
}
