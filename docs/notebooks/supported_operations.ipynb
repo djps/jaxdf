{
 "cells": [
  {
   "cell_type": "code",
   "execution_count": 1,
   "id": "db2cf273",
   "metadata": {},
   "outputs": [],
   "source": [
    "%load_ext autoreload\n",
    "%autoreload 2"
   ]
  },
  {
   "cell_type": "code",
   "execution_count": 2,
   "id": "5a6d3fb5",
   "metadata": {},
   "outputs": [],
   "source": [
    "from jax import random\n",
    "from jaxdf.geometry import Domain\n",
    "import jax\n",
    "from jax import numpy as jnp\n",
    "\n",
    "seeds = random.split(random.PRNGKey(42), 20)\n",
    "\n",
    "domain = Domain((32,35), (.5,.6))\n",
    "x = jnp.array([1., 2.])"
   ]
  },
  {
   "cell_type": "code",
   "execution_count": 3,
   "id": "ac1658f3",
   "metadata": {},
   "outputs": [],
   "source": [
    "from jaxdf.core import operator, Field"
   ]
  },
  {
   "cell_type": "code",
   "execution_count": 4,
   "id": "5a25eb61",
   "metadata": {},
   "outputs": [],
   "source": [
    "from jaxdf.discretization import Arbitrary\n",
    "from jax import numpy as jnp\n",
    "from jax.experimental import stax\n",
    "\n",
    "init_random_params, predict = stax.serial(\n",
    "    stax.Dense(32), stax.Relu,\n",
    "    stax.Dense(1))\n",
    "\n",
    "init_params = lambda seed, domain: init_random_params(seed, (len(domain.N),))[1]\n",
    "\n",
    "def get_fun(params, x):\n",
    "    return predict(params, x)\n",
    "\n",
    "arbitrary_discr = Arbitrary(domain, get_fun, init_params)\n",
    "\n",
    "u_arb_params = arbitrary_discr.random_field(seeds[0])\n",
    "u_arbitrary = Field(arbitrary_discr, params=u_arb_params, name='u')\n",
    "\n",
    "v_arb_params = arbitrary_discr.random_field(seeds[1])\n",
    "v_arbitrary = Field(arbitrary_discr, params=v_arb_params, name='v')"
   ]
  },
  {
   "cell_type": "code",
   "execution_count": 5,
   "id": "4465241b",
   "metadata": {},
   "outputs": [],
   "source": [
    "from jaxdf.discretization import RealFourierSeries\n",
    "fourier_discr = RealFourierSeries(domain)\n",
    "\n",
    "u_fourier_params = fourier_discr.random_field(seeds[0])\n",
    "u_fourier = Field(fourier_discr, params=u_fourier_params, name='u')\n",
    "\n",
    "v_fourier_params = fourier_discr.random_field(seeds[1])\n",
    "v_fourier = Field(fourier_discr, params=v_fourier_params, name='v')"
   ]
  },
  {
   "cell_type": "markdown",
   "id": "e3ee08a1",
   "metadata": {},
   "source": [
    "# `__call__` (non-jittable)"
   ]
  },
  {
   "cell_type": "code",
   "execution_count": 6,
   "id": "cbcec8e7",
   "metadata": {},
   "outputs": [
    {
     "data": {
      "text/plain": [
       "DeviceArray([-0.91762376], dtype=float32)"
      ]
     },
     "execution_count": 6,
     "metadata": {},
     "output_type": "execute_result"
    }
   ],
   "source": [
    "u_arbitrary(x)"
   ]
  },
  {
   "cell_type": "code",
   "execution_count": 7,
   "id": "f49c0762",
   "metadata": {},
   "outputs": [
    {
     "data": {
      "text/plain": [
       "DeviceArray([-0.2871864], dtype=float32)"
      ]
     },
     "execution_count": 7,
     "metadata": {},
     "output_type": "execute_result"
    }
   ],
   "source": [
    "u_fourier(x)"
   ]
  },
  {
   "cell_type": "markdown",
   "id": "3d3faeab",
   "metadata": {},
   "source": [
    "# `get_field` (jittable)"
   ]
  },
  {
   "cell_type": "code",
   "execution_count": 8,
   "id": "188bfdcb",
   "metadata": {},
   "outputs": [
    {
     "data": {
      "text/plain": [
       "DeviceArray([-0.91762376], dtype=float32)"
      ]
     },
     "execution_count": 8,
     "metadata": {},
     "output_type": "execute_result"
    }
   ],
   "source": [
    "u_arbitrary.get_field()(u_arb_params, x)"
   ]
  },
  {
   "cell_type": "code",
   "execution_count": 9,
   "id": "758d4fcd",
   "metadata": {},
   "outputs": [
    {
     "data": {
      "text/plain": [
       "DeviceArray([-0.2871864], dtype=float32)"
      ]
     },
     "execution_count": 9,
     "metadata": {},
     "output_type": "execute_result"
    }
   ],
   "source": [
    "u_fourier.get_field()(u_fourier_params, x)"
   ]
  },
  {
   "cell_type": "markdown",
   "id": "7519d439",
   "metadata": {},
   "source": [
    "# `add`"
   ]
  },
  {
   "cell_type": "code",
   "execution_count": 10,
   "id": "2f7c81ac",
   "metadata": {},
   "outputs": [
    {
     "data": {
      "text/plain": [
       "DeviceArray([-0.3396132], dtype=float32)"
      ]
     },
     "execution_count": 10,
     "metadata": {},
     "output_type": "execute_result"
    }
   ],
   "source": [
    "v_arbitrary.get_field()(v_arb_params, x)"
   ]
  },
  {
   "cell_type": "code",
   "execution_count": 11,
   "id": "e56f2c0e",
   "metadata": {},
   "outputs": [],
   "source": [
    "@operator()\n",
    "def new_op(u, v):\n",
    "    return u + v"
   ]
  },
  {
   "cell_type": "code",
   "execution_count": 12,
   "id": "b98fbfca",
   "metadata": {},
   "outputs": [
    {
     "data": {
      "text/plain": [
       "DeviceArray([-1.257237], dtype=float32)"
      ]
     },
     "execution_count": 12,
     "metadata": {},
     "output_type": "execute_result"
    }
   ],
   "source": [
    "out_field = new_op(u=u_arbitrary, v=v_arbitrary)\n",
    "global_params = out_field.get_global_params()\n",
    "out_field.get_field(0)(\n",
    "    global_params, \n",
    "    {\"u\": u_arb_params, \"v\": v_arb_params}, \n",
    "    x\n",
    ")"
   ]
  },
  {
   "cell_type": "code",
   "execution_count": 13,
   "id": "410629b4",
   "metadata": {},
   "outputs": [
    {
     "data": {
      "text/plain": [
       "{ lambda  ; a b c d e f g h i.\n",
       "  let j = dot_general[ dimension_numbers=(((0,), (0,)), ((), ()))\n",
       "                       precision=None\n",
       "                       preferred_element_type=None ] i a\n",
       "      k = add j b\n",
       "      l = custom_jvp_call_jaxpr[ fun_jaxpr={ lambda  ; a.\n",
       "                                             let b = max a 0.0\n",
       "                                             in (b,) }\n",
       "                                 jvp_jaxpr_thunk=<function _memoize.<locals>.memoized at 0x7f0514335820>\n",
       "                                 num_consts=0 ] k\n",
       "      m = dot_general[ dimension_numbers=(((0,), (0,)), ((), ()))\n",
       "                       precision=None\n",
       "                       preferred_element_type=None ] l c\n",
       "      n = add m d\n",
       "      o = dot_general[ dimension_numbers=(((0,), (0,)), ((), ()))\n",
       "                       precision=None\n",
       "                       preferred_element_type=None ] i e\n",
       "      p = add o f\n",
       "      q = custom_jvp_call_jaxpr[ fun_jaxpr={ lambda  ; a.\n",
       "                                             let b = max a 0.0\n",
       "                                             in (b,) }\n",
       "                                 jvp_jaxpr_thunk=<function _memoize.<locals>.memoized at 0x7f0514335940>\n",
       "                                 num_consts=0 ] p\n",
       "      r = dot_general[ dimension_numbers=(((0,), (0,)), ((), ()))\n",
       "                       precision=None\n",
       "                       preferred_element_type=None ] q g\n",
       "      s = add r h\n",
       "      t = add n s\n",
       "  in (t,) }"
      ]
     },
     "execution_count": 13,
     "metadata": {},
     "output_type": "execute_result"
    }
   ],
   "source": [
    "f = out_field.get_field(0)\n",
    "jax.make_jaxpr(f)(\n",
    "    global_params, \n",
    "    {\"u\": u_arb_params, \"v\": v_arb_params}, \n",
    "    x\n",
    ")"
   ]
  },
  {
   "cell_type": "code",
   "execution_count": 14,
   "id": "52692913",
   "metadata": {},
   "outputs": [
    {
     "data": {
      "text/plain": [
       "DeviceArray([0.25046578], dtype=float32)"
      ]
     },
     "execution_count": 14,
     "metadata": {},
     "output_type": "execute_result"
    }
   ],
   "source": [
    "out_field = new_op(u=u_fourier, v=u_fourier)\n",
    "global_params = out_field.get_global_params()\n",
    "out_field.get_field(0)(\n",
    "    global_params, \n",
    "    {\"u\": u_fourier_params, \"v\": v_fourier_params}, \n",
    "    x\n",
    ")"
   ]
  },
  {
   "cell_type": "code",
   "execution_count": 15,
   "id": "df70436d",
   "metadata": {},
   "outputs": [
    {
     "data": {
      "text/plain": [
       "{ lambda  ; a b.\n",
       "  let c = add a b\n",
       "  in (c,) }"
      ]
     },
     "execution_count": 15,
     "metadata": {},
     "output_type": "execute_result"
    }
   ],
   "source": [
    "f = out_field.get_field_on_grid(0)\n",
    "jax.make_jaxpr(f)(\n",
    "    global_params, \n",
    "    {\"u\": u_fourier_params, \"v\": v_fourier_params}\n",
    ")"
   ]
  },
  {
   "cell_type": "code",
   "execution_count": 16,
   "id": "6f494cc4",
   "metadata": {},
   "outputs": [
    {
     "data": {
      "text/plain": [
       "{ lambda a b c d e ; f g h.\n",
       "  let i = add f g\n",
       "      j = broadcast_in_dim[ broadcast_dimensions=(  )\n",
       "                            shape=(32,) ] 0.0\n",
       "      k = convert_element_type[ new_dtype=float32\n",
       "                                weak_type=False ] a\n",
       "      l = broadcast_in_dim[ broadcast_dimensions=(  )\n",
       "                            shape=(1,) ] 0\n",
       "      m = scatter[ dimension_numbers=ScatterDimensionNumbers(update_window_dims=(0,), inserted_window_dims=(), scatter_dims_to_operand_dims=(0,))\n",
       "                   indices_are_sorted=True\n",
       "                   unique_indices=True\n",
       "                   update_consts=(  )\n",
       "                   update_jaxpr={ lambda  ; a b.\n",
       "                                  let \n",
       "                                  in (b,) } ] j l k\n",
       "      n = convert_element_type[ new_dtype=float32\n",
       "                                weak_type=False ] b\n",
       "      o = broadcast_in_dim[ broadcast_dimensions=(  )\n",
       "                            shape=(1,) ] 16\n",
       "      p = scatter[ dimension_numbers=ScatterDimensionNumbers(update_window_dims=(0,), inserted_window_dims=(), scatter_dims_to_operand_dims=(0,))\n",
       "                   indices_are_sorted=True\n",
       "                   unique_indices=True\n",
       "                   update_consts=(  )\n",
       "                   update_jaxpr={ lambda  ; a b.\n",
       "                                  let \n",
       "                                  in (b,) } ] m o n\n",
       "      q = div p 16.0\n",
       "      r = mul q 2.0\n",
       "      s = mul r 3.1415927410125732\n",
       "      t = broadcast_in_dim[ broadcast_dimensions=(  )\n",
       "                            shape=(35,) ] 0.0\n",
       "      u = convert_element_type[ new_dtype=float32\n",
       "                                weak_type=False ] c\n",
       "      v = broadcast_in_dim[ broadcast_dimensions=(  )\n",
       "                            shape=(1,) ] 0\n",
       "      w = scatter[ dimension_numbers=ScatterDimensionNumbers(update_window_dims=(0,), inserted_window_dims=(), scatter_dims_to_operand_dims=(0,))\n",
       "                   indices_are_sorted=True\n",
       "                   unique_indices=True\n",
       "                   update_consts=(  )\n",
       "                   update_jaxpr={ lambda  ; a b.\n",
       "                                  let \n",
       "                                  in (b,) } ] t v u\n",
       "      x = convert_element_type[ new_dtype=float32\n",
       "                                weak_type=False ] d\n",
       "      y = broadcast_in_dim[ broadcast_dimensions=(  )\n",
       "                            shape=(1,) ] 18\n",
       "      z = scatter[ dimension_numbers=ScatterDimensionNumbers(update_window_dims=(0,), inserted_window_dims=(), scatter_dims_to_operand_dims=(0,))\n",
       "                   indices_are_sorted=True\n",
       "                   unique_indices=True\n",
       "                   update_consts=(  )\n",
       "                   update_jaxpr={ lambda  ; a b.\n",
       "                                  let \n",
       "                                  in (b,) } ] w y x\n",
       "      ba = div z 21.0\n",
       "      bb = mul ba 2.0\n",
       "      _ = mul bb 3.1415927410125732\n",
       "      bc = convert_element_type[ new_dtype=float32\n",
       "                                 weak_type=True ] e\n",
       "      bd = div bc 21.0\n",
       "      be = mul bd 2.0\n",
       "      bf = mul be 3.1415927410125732\n",
       "      bg = broadcast_in_dim[ broadcast_dimensions=(0,)\n",
       "                             shape=(32, 18) ] s\n",
       "      bh = broadcast_in_dim[ broadcast_dimensions=(1,)\n",
       "                             shape=(32, 18) ] bf\n",
       "      bi = broadcast_in_dim[ broadcast_dimensions=(0, 1)\n",
       "                             shape=(32, 18, 1) ] bg\n",
       "      bj = broadcast_in_dim[ broadcast_dimensions=(0, 1)\n",
       "                             shape=(32, 18, 1) ] bh\n",
       "      bk = convert_element_type[ new_dtype=float32\n",
       "                                 weak_type=False ] bj\n",
       "      bl = concatenate[ dimension=2 ] bi bk\n",
       "      bm = fft[ fft_lengths=(32, 35)\n",
       "                fft_type=FftType.RFFT ] i\n",
       "      bn = broadcast_in_dim[ broadcast_dimensions=(2,)\n",
       "                             shape=(1, 1, 2) ] h\n",
       "      bo = mul bl bn\n",
       "      bp = reduce_sum[ axes=(2,) ] bo\n",
       "      bq = convert_element_type[ new_dtype=complex64\n",
       "                                 weak_type=False ] bp\n",
       "      br = mul bq 1j\n",
       "      bs = exp br\n",
       "      bt = mul bm bs\n",
       "      bu = reduce_sum[ axes=(0, 1) ] bt\n",
       "      _ = broadcast_in_dim[ broadcast_dimensions=(  )\n",
       "                            shape=(1,) ] 0\n",
       "      bv = broadcast_in_dim[ broadcast_dimensions=(  )\n",
       "                             shape=(32, 0, 2) ] 0.0\n",
       "      _ = broadcast_in_dim[ broadcast_dimensions=(  )\n",
       "                            shape=(1,) ] 0\n",
       "      bw = broadcast_in_dim[ broadcast_dimensions=(  )\n",
       "                             shape=(32, 0) ] 0j\n",
       "      bx = conj[ input_dtype=complex64 ] bw\n",
       "      by = broadcast_in_dim[ broadcast_dimensions=(2,)\n",
       "                             shape=(1, 1, 2) ] h\n",
       "      bz = mul bv by\n",
       "      ca = reduce_sum[ axes=(2,) ] bz\n",
       "      cb = convert_element_type[ new_dtype=complex64\n",
       "                                 weak_type=False ] ca\n",
       "      cc = mul cb (-0-1j)\n",
       "      cd = exp cc\n",
       "      ce = mul bx cd\n",
       "      cf = reduce_sum[ axes=(0, 1) ] ce\n",
       "      cg = add bu cf\n",
       "      ch = real cg\n",
       "      ci = reshape[ dimensions=None\n",
       "                    new_sizes=(1,) ] ch\n",
       "      cj = div ci 1120.0\n",
       "  in (cj,) }"
      ]
     },
     "execution_count": 16,
     "metadata": {},
     "output_type": "execute_result"
    }
   ],
   "source": [
    "f = out_field.get_field(0)\n",
    "jax.make_jaxpr(f)(\n",
    "    global_params, \n",
    "    {\"u\": u_fourier_params, \"v\": v_fourier_params},\n",
    "    x\n",
    ")"
   ]
  },
  {
   "cell_type": "markdown",
   "id": "3e5c5fe7",
   "metadata": {},
   "source": [
    "# `add_scalar`"
   ]
  },
  {
   "cell_type": "code",
   "execution_count": 25,
   "id": "37ad6bcb",
   "metadata": {},
   "outputs": [],
   "source": [
    "@operator()\n",
    "def add_two(u):\n",
    "    return u + 2"
   ]
  },
  {
   "cell_type": "code",
   "execution_count": 26,
   "id": "eaa63c8c",
   "metadata": {},
   "outputs": [
    {
     "data": {
      "text/plain": [
       "DeviceArray([1.0823762], dtype=float32)"
      ]
     },
     "execution_count": 26,
     "metadata": {},
     "output_type": "execute_result"
    }
   ],
   "source": [
    "out_field = add_two(u=u_arbitrary)\n",
    "global_params = out_field.get_global_params()\n",
    "out_field.get_field(0)(\n",
    "    global_params, \n",
    "    {\"u\": u_arb_params}, \n",
    "    x\n",
    ")"
   ]
  },
  {
   "cell_type": "code",
   "execution_count": 27,
   "id": "7ce79d9d",
   "metadata": {},
   "outputs": [
    {
     "data": {
      "text/plain": [
       "DeviceArray([1.0823762], dtype=float32)"
      ]
     },
     "execution_count": 27,
     "metadata": {},
     "output_type": "execute_result"
    }
   ],
   "source": [
    "f = out_field.get_field(0)\n",
    "global_params = out_field.get_global_params()\n",
    "\n",
    "f(global_params, {\"u\": u_arb_params}, x)"
   ]
  },
  {
   "cell_type": "code",
   "execution_count": 28,
   "id": "c7d51560",
   "metadata": {},
   "outputs": [
    {
     "name": "stdout",
     "output_type": "stream",
     "text": [
      "{ lambda  ; a b c d e f.\n",
      "  let g = dot_general[ dimension_numbers=(((0,), (0,)), ((), ()))\n",
      "                       precision=None\n",
      "                       preferred_element_type=None ] f b\n",
      "      h = add g c\n",
      "      i = custom_jvp_call_jaxpr[ fun_jaxpr={ lambda  ; a.\n",
      "                                             let b = max a 0.0\n",
      "                                             in (b,) }\n",
      "                                 jvp_jaxpr_thunk=<function _memoize.<locals>.memoized at 0x7f051428d0d0>\n",
      "                                 num_consts=0 ] h\n",
      "      j = dot_general[ dimension_numbers=(((0,), (0,)), ((), ()))\n",
      "                       precision=None\n",
      "                       preferred_element_type=None ] i d\n",
      "      k = add j e\n",
      "      l = convert_element_type[ new_dtype=float32\n",
      "                                weak_type=False ] a\n",
      "      m = add k l\n",
      "  in (m,) }\n"
     ]
    }
   ],
   "source": [
    "from jax import make_jaxpr\n",
    "\n",
    "print(make_jaxpr(f)(global_params, {\"u\": u_arb_params}, x))"
   ]
  },
  {
   "cell_type": "code",
   "execution_count": 29,
   "id": "2ac01a8e",
   "metadata": {},
   "outputs": [
    {
     "data": {
      "text/plain": [
       "DeviceArray([1.712813], dtype=float32)"
      ]
     },
     "execution_count": 29,
     "metadata": {},
     "output_type": "execute_result"
    }
   ],
   "source": [
    "out_field = add_two(u=u_fourier)\n",
    "\n",
    "global_params = out_field.get_global_params()\n",
    "out_field.get_field(0)(global_params, {\"u\": u_fourier_params}, x)"
   ]
  },
  {
   "cell_type": "code",
   "execution_count": 30,
   "id": "71924c39",
   "metadata": {},
   "outputs": [
    {
     "data": {
      "text/plain": [
       "DeviceArray([1.712813], dtype=float32)"
      ]
     },
     "execution_count": 30,
     "metadata": {},
     "output_type": "execute_result"
    }
   ],
   "source": [
    "f = out_field.get_field(0)\n",
    "global_params = out_field.get_global_params()\n",
    "\n",
    "f(global_params, {\"u\": u_fourier_params}, x)"
   ]
  },
  {
   "cell_type": "code",
   "execution_count": 31,
   "id": "366284e1",
   "metadata": {},
   "outputs": [
    {
     "name": "stdout",
     "output_type": "stream",
     "text": [
      "{ lambda a b c d e ; f g h.\n",
      "  let i = convert_element_type[ new_dtype=float32\n",
      "                                weak_type=False ] f\n",
      "      j = add g i\n",
      "      k = broadcast_in_dim[ broadcast_dimensions=(  )\n",
      "                            shape=(32,) ] 0.0\n",
      "      l = convert_element_type[ new_dtype=float32\n",
      "                                weak_type=False ] a\n",
      "      m = broadcast_in_dim[ broadcast_dimensions=(  )\n",
      "                            shape=(1,) ] 0\n",
      "      n = scatter[ dimension_numbers=ScatterDimensionNumbers(update_window_dims=(0,), inserted_window_dims=(), scatter_dims_to_operand_dims=(0,))\n",
      "                   indices_are_sorted=True\n",
      "                   unique_indices=True\n",
      "                   update_consts=(  )\n",
      "                   update_jaxpr={ lambda  ; a b.\n",
      "                                  let \n",
      "                                  in (b,) } ] k m l\n",
      "      o = convert_element_type[ new_dtype=float32\n",
      "                                weak_type=False ] b\n",
      "      p = broadcast_in_dim[ broadcast_dimensions=(  )\n",
      "                            shape=(1,) ] 16\n",
      "      q = scatter[ dimension_numbers=ScatterDimensionNumbers(update_window_dims=(0,), inserted_window_dims=(), scatter_dims_to_operand_dims=(0,))\n",
      "                   indices_are_sorted=True\n",
      "                   unique_indices=True\n",
      "                   update_consts=(  )\n",
      "                   update_jaxpr={ lambda  ; a b.\n",
      "                                  let \n",
      "                                  in (b,) } ] n p o\n",
      "      r = div q 16.0\n",
      "      s = mul r 2.0\n",
      "      t = mul s 3.1415927410125732\n",
      "      u = broadcast_in_dim[ broadcast_dimensions=(  )\n",
      "                            shape=(35,) ] 0.0\n",
      "      v = convert_element_type[ new_dtype=float32\n",
      "                                weak_type=False ] c\n",
      "      w = broadcast_in_dim[ broadcast_dimensions=(  )\n",
      "                            shape=(1,) ] 0\n",
      "      x = scatter[ dimension_numbers=ScatterDimensionNumbers(update_window_dims=(0,), inserted_window_dims=(), scatter_dims_to_operand_dims=(0,))\n",
      "                   indices_are_sorted=True\n",
      "                   unique_indices=True\n",
      "                   update_consts=(  )\n",
      "                   update_jaxpr={ lambda  ; a b.\n",
      "                                  let \n",
      "                                  in (b,) } ] u w v\n",
      "      y = convert_element_type[ new_dtype=float32\n",
      "                                weak_type=False ] d\n",
      "      z = broadcast_in_dim[ broadcast_dimensions=(  )\n",
      "                            shape=(1,) ] 18\n",
      "      ba = scatter[ dimension_numbers=ScatterDimensionNumbers(update_window_dims=(0,), inserted_window_dims=(), scatter_dims_to_operand_dims=(0,))\n",
      "                    indices_are_sorted=True\n",
      "                    unique_indices=True\n",
      "                    update_consts=(  )\n",
      "                    update_jaxpr={ lambda  ; a b.\n",
      "                                   let \n",
      "                                   in (b,) } ] x z y\n",
      "      bb = div ba 21.0\n",
      "      bc = mul bb 2.0\n",
      "      _ = mul bc 3.1415927410125732\n",
      "      bd = convert_element_type[ new_dtype=float32\n",
      "                                 weak_type=True ] e\n",
      "      be = div bd 21.0\n",
      "      bf = mul be 2.0\n",
      "      bg = mul bf 3.1415927410125732\n",
      "      bh = broadcast_in_dim[ broadcast_dimensions=(0,)\n",
      "                             shape=(32, 18) ] t\n",
      "      bi = broadcast_in_dim[ broadcast_dimensions=(1,)\n",
      "                             shape=(32, 18) ] bg\n",
      "      bj = broadcast_in_dim[ broadcast_dimensions=(0, 1)\n",
      "                             shape=(32, 18, 1) ] bh\n",
      "      bk = broadcast_in_dim[ broadcast_dimensions=(0, 1)\n",
      "                             shape=(32, 18, 1) ] bi\n",
      "      bl = convert_element_type[ new_dtype=float32\n",
      "                                 weak_type=False ] bk\n",
      "      bm = concatenate[ dimension=2 ] bj bl\n",
      "      bn = fft[ fft_lengths=(32, 35)\n",
      "                fft_type=FftType.RFFT ] j\n",
      "      bo = broadcast_in_dim[ broadcast_dimensions=(2,)\n",
      "                             shape=(1, 1, 2) ] h\n",
      "      bp = mul bm bo\n",
      "      bq = reduce_sum[ axes=(2,) ] bp\n",
      "      br = convert_element_type[ new_dtype=complex64\n",
      "                                 weak_type=False ] bq\n",
      "      bs = mul br 1j\n",
      "      bt = exp bs\n",
      "      bu = mul bn bt\n",
      "      bv = reduce_sum[ axes=(0, 1) ] bu\n",
      "      _ = broadcast_in_dim[ broadcast_dimensions=(  )\n",
      "                            shape=(1,) ] 0\n",
      "      bw = broadcast_in_dim[ broadcast_dimensions=(  )\n",
      "                             shape=(32, 0, 2) ] 0.0\n",
      "      _ = broadcast_in_dim[ broadcast_dimensions=(  )\n",
      "                            shape=(1,) ] 0\n",
      "      bx = broadcast_in_dim[ broadcast_dimensions=(  )\n",
      "                             shape=(32, 0) ] 0j\n",
      "      by = conj[ input_dtype=complex64 ] bx\n",
      "      bz = broadcast_in_dim[ broadcast_dimensions=(2,)\n",
      "                             shape=(1, 1, 2) ] h\n",
      "      ca = mul bw bz\n",
      "      cb = reduce_sum[ axes=(2,) ] ca\n",
      "      cc = convert_element_type[ new_dtype=complex64\n",
      "                                 weak_type=False ] cb\n",
      "      cd = mul cc (-0-1j)\n",
      "      ce = exp cd\n",
      "      cf = mul by ce\n",
      "      cg = reduce_sum[ axes=(0, 1) ] cf\n",
      "      ch = add bv cg\n",
      "      ci = real ch\n",
      "      cj = reshape[ dimensions=None\n",
      "                    new_sizes=(1,) ] ci\n",
      "      ck = div cj 1120.0\n",
      "  in (ck,) }\n"
     ]
    }
   ],
   "source": [
    "print(make_jaxpr(f)(global_params, {\"u\": u_fourier_params}, x))"
   ]
  },
  {
   "cell_type": "markdown",
   "id": "fb972778",
   "metadata": {},
   "source": [
    "# elementwise"
   ]
  },
  {
   "cell_type": "code",
   "execution_count": 32,
   "id": "7a97aa75",
   "metadata": {},
   "outputs": [],
   "source": [
    "from jaxdf.operators import elementwise\n",
    "from jax import numpy as jnp\n",
    "\n",
    "Tanh = elementwise(jnp.tanh)\n",
    "\n",
    "@operator()\n",
    "def custom(u):\n",
    "    return Tanh(u) + 2"
   ]
  },
  {
   "cell_type": "code",
   "execution_count": 33,
   "id": "e2a1ebbc",
   "metadata": {},
   "outputs": [
    {
     "data": {
      "text/plain": [
       "DeviceArray([1.2752286], dtype=float32)"
      ]
     },
     "execution_count": 33,
     "metadata": {},
     "output_type": "execute_result"
    }
   ],
   "source": [
    "out_field = custom(u=u_arbitrary)\n",
    "global_params = out_field.get_global_params()\n",
    "out_field.get_field(0)(global_params, {\"u\": u_arb_params}, x)"
   ]
  },
  {
   "cell_type": "code",
   "execution_count": 34,
   "id": "054c9344",
   "metadata": {},
   "outputs": [
    {
     "name": "stdout",
     "output_type": "stream",
     "text": [
      "DiscretizedOperator :: [Arbitrary], ['_mO'] \n",
      "\n",
      " Input fields: ('u',)\n",
      "\n",
      "Globals: {'shared': {}, 'independent': {'AddScalar_l5': {'scalar': 2}}}\n",
      "\n",
      "Operations:\n",
      "- _k5: Arbitrary <-- Elementwise ('u',) | (none) Elementwise\n",
      "- _mO: Arbitrary <-- AddScalar ('_k5',) | (independent) AddScalar_l5\n",
      "\n"
     ]
    }
   ],
   "source": [
    "print(out_field)"
   ]
  },
  {
   "cell_type": "code",
   "execution_count": 35,
   "id": "5506cf08",
   "metadata": {},
   "outputs": [
    {
     "name": "stdout",
     "output_type": "stream",
     "text": [
      "{ lambda  ; a b c d e f.\n",
      "  let g = dot_general[ dimension_numbers=(((0,), (0,)), ((), ()))\n",
      "                       precision=None\n",
      "                       preferred_element_type=None ] f b\n",
      "      h = add g c\n",
      "      i = custom_jvp_call_jaxpr[ fun_jaxpr={ lambda  ; a.\n",
      "                                             let b = max a 0.0\n",
      "                                             in (b,) }\n",
      "                                 jvp_jaxpr_thunk=<function _memoize.<locals>.memoized at 0x7f0514238160>\n",
      "                                 num_consts=0 ] h\n",
      "      j = dot_general[ dimension_numbers=(((0,), (0,)), ((), ()))\n",
      "                       precision=None\n",
      "                       preferred_element_type=None ] i d\n",
      "      k = add j e\n",
      "      l = tanh k\n",
      "      m = convert_element_type[ new_dtype=float32\n",
      "                                weak_type=False ] a\n",
      "      n = add l m\n",
      "  in (n,) }\n"
     ]
    }
   ],
   "source": [
    "from jax import make_jaxpr\n",
    "\n",
    "f = out_field.get_field(0)\n",
    "print(make_jaxpr(f)(global_params, {\"u\": u_arb_params}, x))"
   ]
  },
  {
   "cell_type": "code",
   "execution_count": 36,
   "id": "3c2b6cac",
   "metadata": {},
   "outputs": [
    {
     "data": {
      "text/plain": [
       "DeviceArray([1.718648], dtype=float32)"
      ]
     },
     "execution_count": 36,
     "metadata": {},
     "output_type": "execute_result"
    }
   ],
   "source": [
    "out_field = custom(u=u_fourier)\n",
    "global_params = out_field.get_global_params()\n",
    "out_field.get_field(0)(global_params, {\"u\": u_fourier_params}, x)"
   ]
  },
  {
   "cell_type": "code",
   "execution_count": 37,
   "id": "ec95b386",
   "metadata": {},
   "outputs": [
    {
     "name": "stdout",
     "output_type": "stream",
     "text": [
      "{ lambda a b c d e ; f g h.\n",
      "  let i = tanh g\n",
      "      j = convert_element_type[ new_dtype=float32\n",
      "                                weak_type=False ] f\n",
      "      k = add i j\n",
      "      l = broadcast_in_dim[ broadcast_dimensions=(  )\n",
      "                            shape=(32,) ] 0.0\n",
      "      m = convert_element_type[ new_dtype=float32\n",
      "                                weak_type=False ] a\n",
      "      n = broadcast_in_dim[ broadcast_dimensions=(  )\n",
      "                            shape=(1,) ] 0\n",
      "      o = scatter[ dimension_numbers=ScatterDimensionNumbers(update_window_dims=(0,), inserted_window_dims=(), scatter_dims_to_operand_dims=(0,))\n",
      "                   indices_are_sorted=True\n",
      "                   unique_indices=True\n",
      "                   update_consts=(  )\n",
      "                   update_jaxpr={ lambda  ; a b.\n",
      "                                  let \n",
      "                                  in (b,) } ] l n m\n",
      "      p = convert_element_type[ new_dtype=float32\n",
      "                                weak_type=False ] b\n",
      "      q = broadcast_in_dim[ broadcast_dimensions=(  )\n",
      "                            shape=(1,) ] 16\n",
      "      r = scatter[ dimension_numbers=ScatterDimensionNumbers(update_window_dims=(0,), inserted_window_dims=(), scatter_dims_to_operand_dims=(0,))\n",
      "                   indices_are_sorted=True\n",
      "                   unique_indices=True\n",
      "                   update_consts=(  )\n",
      "                   update_jaxpr={ lambda  ; a b.\n",
      "                                  let \n",
      "                                  in (b,) } ] o q p\n",
      "      s = div r 16.0\n",
      "      t = mul s 2.0\n",
      "      u = mul t 3.1415927410125732\n",
      "      v = broadcast_in_dim[ broadcast_dimensions=(  )\n",
      "                            shape=(35,) ] 0.0\n",
      "      w = convert_element_type[ new_dtype=float32\n",
      "                                weak_type=False ] c\n",
      "      x = broadcast_in_dim[ broadcast_dimensions=(  )\n",
      "                            shape=(1,) ] 0\n",
      "      y = scatter[ dimension_numbers=ScatterDimensionNumbers(update_window_dims=(0,), inserted_window_dims=(), scatter_dims_to_operand_dims=(0,))\n",
      "                   indices_are_sorted=True\n",
      "                   unique_indices=True\n",
      "                   update_consts=(  )\n",
      "                   update_jaxpr={ lambda  ; a b.\n",
      "                                  let \n",
      "                                  in (b,) } ] v x w\n",
      "      z = convert_element_type[ new_dtype=float32\n",
      "                                weak_type=False ] d\n",
      "      ba = broadcast_in_dim[ broadcast_dimensions=(  )\n",
      "                             shape=(1,) ] 18\n",
      "      bb = scatter[ dimension_numbers=ScatterDimensionNumbers(update_window_dims=(0,), inserted_window_dims=(), scatter_dims_to_operand_dims=(0,))\n",
      "                    indices_are_sorted=True\n",
      "                    unique_indices=True\n",
      "                    update_consts=(  )\n",
      "                    update_jaxpr={ lambda  ; a b.\n",
      "                                   let \n",
      "                                   in (b,) } ] y ba z\n",
      "      bc = div bb 21.0\n",
      "      bd = mul bc 2.0\n",
      "      _ = mul bd 3.1415927410125732\n",
      "      be = convert_element_type[ new_dtype=float32\n",
      "                                 weak_type=True ] e\n",
      "      bf = div be 21.0\n",
      "      bg = mul bf 2.0\n",
      "      bh = mul bg 3.1415927410125732\n",
      "      bi = broadcast_in_dim[ broadcast_dimensions=(0,)\n",
      "                             shape=(32, 18) ] u\n",
      "      bj = broadcast_in_dim[ broadcast_dimensions=(1,)\n",
      "                             shape=(32, 18) ] bh\n",
      "      bk = broadcast_in_dim[ broadcast_dimensions=(0, 1)\n",
      "                             shape=(32, 18, 1) ] bi\n",
      "      bl = broadcast_in_dim[ broadcast_dimensions=(0, 1)\n",
      "                             shape=(32, 18, 1) ] bj\n",
      "      bm = convert_element_type[ new_dtype=float32\n",
      "                                 weak_type=False ] bl\n",
      "      bn = concatenate[ dimension=2 ] bk bm\n",
      "      bo = fft[ fft_lengths=(32, 35)\n",
      "                fft_type=FftType.RFFT ] k\n",
      "      bp = broadcast_in_dim[ broadcast_dimensions=(2,)\n",
      "                             shape=(1, 1, 2) ] h\n",
      "      bq = mul bn bp\n",
      "      br = reduce_sum[ axes=(2,) ] bq\n",
      "      bs = convert_element_type[ new_dtype=complex64\n",
      "                                 weak_type=False ] br\n",
      "      bt = mul bs 1j\n",
      "      bu = exp bt\n",
      "      bv = mul bo bu\n",
      "      bw = reduce_sum[ axes=(0, 1) ] bv\n",
      "      _ = broadcast_in_dim[ broadcast_dimensions=(  )\n",
      "                            shape=(1,) ] 0\n",
      "      bx = broadcast_in_dim[ broadcast_dimensions=(  )\n",
      "                             shape=(32, 0, 2) ] 0.0\n",
      "      _ = broadcast_in_dim[ broadcast_dimensions=(  )\n",
      "                            shape=(1,) ] 0\n",
      "      by = broadcast_in_dim[ broadcast_dimensions=(  )\n",
      "                             shape=(32, 0) ] 0j\n",
      "      bz = conj[ input_dtype=complex64 ] by\n",
      "      ca = broadcast_in_dim[ broadcast_dimensions=(2,)\n",
      "                             shape=(1, 1, 2) ] h\n",
      "      cb = mul bx ca\n",
      "      cc = reduce_sum[ axes=(2,) ] cb\n",
      "      cd = convert_element_type[ new_dtype=complex64\n",
      "                                 weak_type=False ] cc\n",
      "      ce = mul cd (-0-1j)\n",
      "      cf = exp ce\n",
      "      cg = mul bz cf\n",
      "      ch = reduce_sum[ axes=(0, 1) ] cg\n",
      "      ci = add bw ch\n",
      "      cj = real ci\n",
      "      ck = reshape[ dimensions=None\n",
      "                    new_sizes=(1,) ] cj\n",
      "      cl = div ck 1120.0\n",
      "  in (cl,) }\n"
     ]
    }
   ],
   "source": [
    "from jax import make_jaxpr\n",
    "\n",
    "f = out_field.get_field(0)\n",
    "print(make_jaxpr(f)(global_params, {\"u\": u_fourier_params}, x))"
   ]
  },
  {
   "cell_type": "code",
   "execution_count": 38,
   "id": "b0bc3e99",
   "metadata": {},
   "outputs": [
    {
     "name": "stdout",
     "output_type": "stream",
     "text": [
      "{ lambda  ; a b.\n",
      "  let c = tanh b\n",
      "      d = convert_element_type[ new_dtype=float32\n",
      "                                weak_type=False ] a\n",
      "      e = add c d\n",
      "  in (e,) }\n"
     ]
    }
   ],
   "source": [
    "from jax import make_jaxpr\n",
    "\n",
    "f = out_field.get_field_on_grid(0)\n",
    "print(make_jaxpr(f)(global_params, {\"u\": u_fourier_params}))"
   ]
  },
  {
   "cell_type": "code",
   "execution_count": null,
   "id": "7ff1fcc0",
   "metadata": {},
   "outputs": [],
   "source": []
  }
 ],
 "metadata": {
  "kernelspec": {
   "display_name": "Python 3 (ipykernel)",
   "language": "python",
   "name": "python3"
  },
  "language_info": {
   "codemirror_mode": {
    "name": "ipython",
    "version": 3
   },
   "file_extension": ".py",
   "mimetype": "text/x-python",
   "name": "python",
   "nbconvert_exporter": "python",
   "pygments_lexer": "ipython3",
   "version": "3.8.10"
  }
 },
 "nbformat": 4,
 "nbformat_minor": 5
}
