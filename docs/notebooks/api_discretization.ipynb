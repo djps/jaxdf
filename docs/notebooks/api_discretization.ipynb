{
 "cells": [
  {
   "cell_type": "code",
   "execution_count": 1,
   "id": "bd4121f5-70cc-487b-8c54-61f092c9cf5e",
   "metadata": {},
   "outputs": [],
   "source": [
    "from jaxdf.geometry import Domain\n",
    "domain = Domain((16,),(2/16.,))"
   ]
  },
  {
   "cell_type": "markdown",
   "id": "a7d0f4fe-3699-4700-94ba-949202ce9368",
   "metadata": {},
   "source": [
    "# Discretization API\n",
    "\n",
    "`jaxdf` revolves around the concept of discretization.\n",
    "\n",
    "We will call **discretization family** the mapping $\\mathcal{D}$ that associates a function $f$ to a set of discrete parameters $\\theta$\n",
    "\n",
    "$$\n",
    "\\theta \\xrightarrow{\\mathcal{D}}f\n",
    "$$\n",
    "\n",
    "with $f \\in \\text{Range}(\\mathcal{D})$ or, in other words, $f_\\theta(x) = \\mathcal{D}(\\theta, x)$ is a function parametrized by $\\theta$.\n",
    "\n",
    "$\\theta$ is the **discrete representation** of $f$ over $\\mathcal{D}$. The latter is analogous to the interpolation function defined in other libraries (See for example the [Operator Discretization Library](https://odl.readthedocs.io))"
   ]
  },
  {
   "cell_type": "markdown",
   "id": "bf98bc38-dca3-4206-a00c-ee5ab4ac1902",
   "metadata": {
    "tags": []
   },
   "source": [
    "### Example\n",
    "\n",
    "A simple example of discretization family is the set of $N$-th order polynomials on the interval $[0,1)$: \n",
    "\n",
    "$$\n",
    "\\mathcal{P}_N(\\theta,x) = \\sum_{i=0}^N \\theta_i x^i, \\qquad \\theta \\in \\mathbb{R}^{N+1}\n",
    "$$\n",
    "\n",
    "In `jaxdf`, we construct such a discretization using the `Arbitrary` discretization. To do so, we have to provide the function $\\mathcal{P}_N$ and an initialization function for the parameters"
   ]
  },
  {
   "cell_type": "code",
   "execution_count": 2,
   "id": "c57a3ed5-afea-4239-a523-bf2a5af8fc45",
   "metadata": {},
   "outputs": [
    {
     "name": "stderr",
     "output_type": "stream",
     "text": [
      "WARNING:absl:No GPU/TPU found, falling back to CPU. (Set TF_CPP_MIN_LOG_LEVEL=0 and rerun for more info.)\n"
     ]
    }
   ],
   "source": [
    "from jaxdf.discretization import Arbitrary\n",
    "from jax.random import normal, PRNGKey\n",
    "\n",
    "N = 10\n",
    "\n",
    "def p_n(theta, x):\n",
    "    i = jnp.arange(N)\n",
    "    powers = x**i\n",
    "    return jnp.sum(theta*(x**i))\n",
    "\n",
    "def init_params(seed, domain):\n",
    "    return normal(seed, (N,))\n",
    "\n",
    "polynomial_discretization = Arbitrary(domain, p_n, init_params)\n",
    "y_params, y = polynomial_discretization.random_field(seed=PRNGKey(0), name='y')"
   ]
  },
  {
   "cell_type": "code",
   "execution_count": 3,
   "id": "8677758f-5e14-4395-93ab-378c35e2b98c",
   "metadata": {},
   "outputs": [
    {
     "data": {
      "text/plain": [
       "DeviceArray([-0.372111  ,  0.26423106, -0.18252774, -0.7368198 ,\n",
       "             -0.44030386, -0.15214427, -0.6713536 , -0.5908642 ,\n",
       "              0.73168874,  0.5673025 ], dtype=float32)"
      ]
     },
     "execution_count": 3,
     "metadata": {},
     "output_type": "execute_result"
    }
   ],
   "source": [
    "y_params"
   ]
  },
  {
   "cell_type": "code",
   "execution_count": 4,
   "id": "c7a57e44-a5bf-48f4-bec9-c08adb7d1d5b",
   "metadata": {},
   "outputs": [
    {
     "data": {
      "text/plain": [
       "<StemContainer object of 3 artists>"
      ]
     },
     "execution_count": 4,
     "metadata": {},
     "output_type": "execute_result"
    },
    {
     "data": {
      "image/png": "[encoded data removed]",
      "text/plain": [
       "<Figure size 432x288 with 1 Axes>"
      ]
     },
     "metadata": {
      "needs_background": "light"
     },
     "output_type": "display_data"
    }
   ],
   "source": [
    "from matplotlib import pyplot as plt\n",
    "\n",
    "plt.stem(y_params)"
   ]
  },
  {
   "cell_type": "code",
   "execution_count": 5,
   "id": "8f43621b-c114-489c-869b-9c516bc9239f",
   "metadata": {},
   "outputs": [],
   "source": [
    "from jax import numpy as jnp\n",
    "\n",
    "y_sampled = polynomial_discretization.get_field_on_grid()(y_params)\n",
    "x_coord = domain.spatial_axis[0]"
   ]
  },
  {
   "cell_type": "code",
   "execution_count": 6,
   "id": "16ae3cd1-3476-4f53-8b83-292a6f08c2dd",
   "metadata": {},
   "outputs": [
    {
     "data": {
      "text/plain": [
       "[<matplotlib.lines.Line2D at 0x7f8ff8122a30>]"
      ]
     },
     "execution_count": 6,
     "metadata": {},
     "output_type": "execute_result"
    },
    {
     "data": {
      "image/png": "[encoded data removed]",
      "text/plain": [
       "<Figure size 432x288 with 1 Axes>"
      ]
     },
     "metadata": {
      "needs_background": "light"
     },
     "output_type": "display_data"
    }
   ],
   "source": [
    "plt.plot(x_coord, y_sampled)"
   ]
  },
  {
   "cell_type": "code",
   "execution_count": 9,
   "id": "bf79f50a-da77-4d09-835c-e1e41e2e4f1a",
   "metadata": {},
   "outputs": [
    {
     "name": "stdout",
     "output_type": "stream",
     "text": [
      "-0.84538496\n"
     ]
    }
   ],
   "source": [
    "y_sample = polynomial_discretization.get_field()(y_params, 0.75)\n",
    "print(y_sample)"
   ]
  },
  {
   "cell_type": "code",
   "execution_count": null,
   "id": "33c030c4-704f-4b42-8d93-5a4fccf33e2f",
   "metadata": {},
   "outputs": [],
   "source": []
  }
 ],
 "metadata": {
  "kernelspec": {
   "display_name": "Python 3 (ipykernel)",
   "language": "python",
   "name": "python3"
  },
  "language_info": {
   "codemirror_mode": {
    "name": "ipython",
    "version": 3
   },
   "file_extension": ".py",
   "mimetype": "text/x-python",
   "name": "python",
   "nbconvert_exporter": "python",
   "pygments_lexer": "ipython3",
   "version": "3.8.12"
  }
 },
 "nbformat": 4,
 "nbformat_minor": 5
}
