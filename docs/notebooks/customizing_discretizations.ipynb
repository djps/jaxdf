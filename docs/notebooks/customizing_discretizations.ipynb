{
 "cells": [
  {
   "cell_type": "markdown",
   "id": "1945d66e",
   "metadata": {},
   "source": [
    "# Custom Discretizations\n",
    "\n",
    "## Intuitive picture\n",
    "\n",
    "A simulator is an algorithm that finds and represents, using a set of finite numbers, a function of interest $f(x)$. This function is often the (initially unknown) solution of a certain differential equation\n",
    "\n",
    "\\begin{equation}\n",
    "    (\\mathcal{L}f)(x) = g(x).\n",
    "\\end{equation}\n",
    "\n",
    "The meaning of this equation is the following. Given a function $f \\in \\mathbf{F}$, the operator $\\mathcal{L}: \\mathbf{F} \\to \\mathbf{G}$ maps the function $f$ to a new function $g \\in \\mathbf{G}$. \n",
    "\n",
    "If $\\mathbf{F}=\\mathbf{G}$, and they are are vector spaces, we can express $f(x)$ and $g(x)$ using a (potentially infinite) set of basis vectors $n_{\\eta}(x)$ and represent each function with the parameters of the linear combination. This operation is at the heart of many transforms. As an example, we can associate $\\hat f$ with $f$, with\n",
    "\n",
    "\\begin{equation}\n",
    "    \\hat f(\\eta) = \\langle n_{\\eta}(x) | f(x) \\rangle.\n",
    "\\end{equation}\n",
    "\n",
    "The argument can also be used in reverse: given a set of basis function, we define a family of functions as all possible linear combinations of the basis elements.\n",
    "\n",
    "As a concrete example, let's set the basis vector to the complex exponentials of varying frequency\n",
    "\n",
    "\\begin{equation}\n",
    "    n_{\\eta}(x) = e^{i\\eta x}.\n",
    "\\end{equation}\n",
    "\n",
    "The transformation, or basis change, becomes the standard Fourier transform\n",
    "\n",
    "\\begin{equation}\n",
    "    \\hat f(\\eta) = \\int f(x) e^{-i\\eta x}dx.\n",
    "\\end{equation}\n",
    "\n",
    "One can also decide to use a finite set of basis vectors to define the family of functions, such that $\\hat f \\in \\mathbb{R}^N$ and the function is simply given by\n",
    "\n",
    "\\begin{equation}\n",
    "    f(x) = \\sum_i \\hat f_i n_i(x).\n",
    "\\end{equation}\n",
    "\n",
    "The fact that we use a finite set of parameters is the key element that allows us to represent the function on a computer. If once again we use a set of complex exponential functions, with regularly spaced frequencies, we obtain the discrete Fourier transform. \n",
    "\n",
    "If the operator $\\mathcal{L}$ is a linear combination of partial differential operators, assuming that our class of function is closed with respect to differentiation, the operator itself can be written as a finite size matrix $L$, by applying it to each element of the representation of $f$ and expading the result in term of the basis itself:\n",
    "\n",
    "\\begin{equation}\n",
    "    \\mathcal{L} \\to L \\qquad \\text{where } L_{i,j} = \\hat f_i \\langle  n_j(x) | \\mathcal{L} n_i(x) \\rangle\n",
    "\\end{equation}\n",
    "\n",
    "This expression is at the heart of many simulation methods. Transforming the PDE into a matrix-vector product allows to leverage the tools of linear algebra to solve it. However, because a finite set of functions is used, the solution often only approximates the true one. The quality of such approximation depends on how well the choosen discretization, i.e. family of functions, overlaps with range of the operator $\\mathcal{L}$."
   ]
  },
  {
   "cell_type": "markdown",
   "id": "853d1a42",
   "metadata": {},
   "source": [
    "## Operators are continous function transformations\n",
    "\n",
    "Many linear discretizations are often realized by sampling the continous space $x$ at a finite set of points $x_i$, called nodes. The function $f$ is then represented as a linear combination of the basis functions, where the coefficients are uniquely determined by the field at the sampling positions $\\bar f = [f(x_1), f(x_2), \\dots]$ via an invertible transformation $T: \\mathbb{R}^N \\to \\mathbb{R}^N$:\n",
    "\n",
    "$$\n",
    "f = \\sum_i T_i(\\bar f) n_i\n",
    "$$\n",
    "\n",
    "The major advantage of such a formulation is that the value of the function at the discretization points can be obtained without any computational cost, just by returning the appropriate element of the $\\bar f$. \n",
    "\n",
    "The ubiquity of such a representation has also been a source of confusion. Ineed it is often claimed that several discretization methods, such as finite differences or spectral methods, can only accurately represent a field at the discretization points and must rely on interpolation methods to approximate the field away from them. Such picture is further reinforced by the fact that multiple discretization techniques can share the same spatial discretization points, e.g. grid-based methods encompassing spectral and FD, resulting into the basis functions being absorbed by the operator itself, leading to various so-called *operator discretizations*.\n",
    "\n",
    "While this is technically correct, following the presentation developed so far we can equivalently claim that all discrete representation can intrinsically represent the function exactly at any point, via the synthesis equation\n",
    "\n",
    "$$\n",
    "f(x) = \\sum_i T_i(\\bar f) n_i(x),\n",
    "$$\n",
    "\n",
    "even if $f$ represented by its value at a finite set of spatial locations. Wether this function is close to the actual one of interest, only depends on how well the family $\\mathbf{F}$ can represent it. The interpolation method is induced by the synthesis equation itself, by expanding the $T_i(\\bar f)$ under the assumption that $T$ is linear.\n",
    "\n",
    "If we take this perspective, then an operator is nothing more than a *transformation* of the algorithm that computes the value of $f(x)$ to one that retuns the value of $g(x)$. This means that to apply an operator to a given family of functions, we can either need to know how to transform the algorithm that computes $f(x)$ into one that computes $g(x)$.\n",
    "\n",
    "We are talking about function transformations, and that's where JAX shines. Specifically, to differenciate the function $f(x)$ we are looking for the function transformation $f(x) \\to \\partial_x f(x)$, which is exactly what the `jax.grad` decorator does. Furthermore, if $\\mathbf{F}$ is a family of functions parametrized by a set of parameters $\\bar f$, then we can leverage `autograd` also to find gradients with respect to the function representation itself.\n",
    "\n",
    "With this view, differential operators are a property of the family of function under consideration. As a bonus side-effect of this view on operators, one can write complex operators in a way that is agnostic to the underlying representation, and get automatic discretization with respect to any family of functions. Furthermore, we are not restricted to families of functions that are linear with respect to the parameters [[Raissi2019](https://www.sciencedirect.com/science/article/pii/S0021999118307125), [Lu2019](https://arxiv.org/abs/1907.04502)], nor the function parameters need to be given necessarily at some spatial locations."
   ]
  },
  {
   "cell_type": "markdown",
   "id": "c7b5e663",
   "metadata": {},
   "source": [
    "## `jaxdf` discretizations\n",
    "\n",
    "In light of all that has been said so far and to accomodate non-linear function families and operators, the framework used in `jaxdf` is the following. \n",
    "\n",
    "Function families are defined in the `discretization` module. In a nutshell, a function family is an object containing a function $f(\\lambda,\\theta;x)$ returned by `get_field`: such callable, which is the synthesis function and is written in `jax`, computes the value of the field represented by the parameters $\\theta$ at position $x$. It further accepts a [PyTree](https://jax.readthedocs.io/en/latest/pytrees.html) of discretization parameters $\\lambda$, that may contain variables such as the stencils for finite differences operators, the frequency grid for Fourier based methods, etc: such parameters are independent of the field value and are common to all functions in a given discretization family."
   ]
  },
  {
   "cell_type": "code",
   "execution_count": 50,
   "id": "52e45623",
   "metadata": {},
   "outputs": [],
   "source": [
    "from jaxdf.discretization import RealFourierSeries\n",
    "from jax import random\n",
    "from jaxdf.geometry import Domain\n",
    "import jax\n",
    "\n",
    "seed = random.PRNGKey(42)\n",
    "\n",
    "domain = Domain((1024,1024), (.5,.6))\n",
    "fourier_discretization = RealFourierSeries(domain)"
   ]
  },
  {
   "cell_type": "markdown",
   "id": "b99e2792",
   "metadata": {},
   "source": [
    "The generated discretization can be used to create a new field. To do so, we just have to define an appropriate set of parameters, or alternatively sample a random field from the discretization itself. We can use the `get_field` method to get the field values"
   ]
  },
  {
   "cell_type": "code",
   "execution_count": 51,
   "id": "101e4460",
   "metadata": {},
   "outputs": [],
   "source": [
    "from jax.random import PRNGKey\n",
    "\n",
    "seed = PRNGKey(30)\n",
    "u_params = fourier_discretization.random_field(seed)\n",
    "discr_params = fourier_discretization.params\n",
    "f = fourier_discretization.get_field()"
   ]
  },
  {
   "cell_type": "code",
   "execution_count": 52,
   "id": "4880ba39",
   "metadata": {},
   "outputs": [
    {
     "name": "stdout",
     "output_type": "stream",
     "text": [
      "(1024, 1024)\n"
     ]
    }
   ],
   "source": [
    "print(u_params.shape) # Those are the field parameters, i.e. its discrete representation"
   ]
  },
  {
   "cell_type": "code",
   "execution_count": 53,
   "id": "f1ef85e9",
   "metadata": {},
   "outputs": [
    {
     "data": {
      "text/plain": [
       "DeviceArray(-1.2483935, dtype=float32)"
      ]
     },
     "execution_count": 53,
     "metadata": {},
     "output_type": "execute_result"
    }
   ],
   "source": [
    "jax.jit(f)(discr_params, u_params, .5)  # Can be compiled"
   ]
  },
  {
   "cell_type": "code",
   "execution_count": 54,
   "id": "c905f145-b0a8-4ebd-aa86-38c65ba3a2cb",
   "metadata": {},
   "outputs": [
    {
     "name": "stdout",
     "output_type": "stream",
     "text": [
      "{ lambda  ; a b c.\n",
      "  let d = fft[ fft_lengths=(1024, 1024)\n",
      "               fft_type=FftType.RFFT ] b\n",
      "      e = convert_element_type[ new_dtype=float32\n",
      "                                weak_type=False ] c\n",
      "      f = mul a e\n",
      "      g = reduce_sum[ axes=(2,) ] f\n",
      "      h = convert_element_type[ new_dtype=complex64\n",
      "                                weak_type=False ] g\n",
      "      i = mul h 1j\n",
      "      j = exp i\n",
      "      k = mul d j\n",
      "      l = reduce_sum[ axes=(0, 1) ] k\n",
      "      _ = broadcast_in_dim[ broadcast_dimensions=(  )\n",
      "                            shape=(1,) ] 0\n",
      "      m = broadcast_in_dim[ broadcast_dimensions=(  )\n",
      "                            shape=(1024, 0, 2) ] 0.0\n",
      "      _ = broadcast_in_dim[ broadcast_dimensions=(  )\n",
      "                            shape=(1,) ] 0\n",
      "      n = broadcast_in_dim[ broadcast_dimensions=(  )\n",
      "                            shape=(1024, 0) ] 0j\n",
      "      o = conj[ input_dtype=complex64 ] n\n",
      "      p = convert_element_type[ new_dtype=float32\n",
      "                                weak_type=False ] c\n",
      "      q = mul m p\n",
      "      r = reduce_sum[ axes=(2,) ] q\n",
      "      s = convert_element_type[ new_dtype=complex64\n",
      "                                weak_type=False ] r\n",
      "      t = mul s (-0-1j)\n",
      "      u = exp t\n",
      "      v = mul o u\n",
      "      w = reduce_sum[ axes=(0, 1) ] v\n",
      "      x = add l w\n",
      "      y = real x\n",
      "      z = div y 1048576.0\n",
      "  in (z,) }\n"
     ]
    }
   ],
   "source": [
    "print(jax.make_jaxpr(f)(discr_params, u_params, 1.))"
   ]
  },
  {
   "cell_type": "markdown",
   "id": "56bd7171",
   "metadata": {},
   "source": [
    "The values on a grid defined over the domain can be obtained using the method `get_field_on_grid` of the discretization family. This reduces the computational complexity of getting values on a grid for some families, such as the `FourierSeries` case; if undefined, it simply parallelizes the execution of the `get_field` method with `vmap`.\n",
    "The signature of the function is `f(discr_parameters, field_parameters) -> values_on_grid` and doesn't depend on `x`."
   ]
  },
  {
   "cell_type": "code",
   "execution_count": 55,
   "id": "a6a74ac5",
   "metadata": {},
   "outputs": [
    {
     "data": {
      "image/png": "[encoded data removed]",
      "text/plain": [
       "<Figure size 432x288 with 1 Axes>"
      ]
     },
     "metadata": {
      "needs_background": "light"
     },
     "output_type": "display_data"
    }
   ],
   "source": [
    "f_grid = fourier_discretization.get_field_on_grid()\n",
    "grid_values = f_grid(discr_params, u_params)\n",
    "\n",
    "# Showing field\n",
    "from matplotlib import pyplot as plt\n",
    "plt.imshow(grid_values)\n",
    "plt.title(\"Field on grid\")\n",
    "plt.show()"
   ]
  },
  {
   "cell_type": "markdown",
   "id": "ada6df52-a233-4b11-9df4-46b930980ccd",
   "metadata": {},
   "source": [
    "Because the user is free to define any method on a discretization, the `get_field_on_grid` is much simpler than `get_field` for grid-based discretizations"
   ]
  },
  {
   "cell_type": "code",
   "execution_count": 56,
   "id": "597abdaf-9509-459f-b532-64062d9ddcd6",
   "metadata": {},
   "outputs": [
    {
     "name": "stdout",
     "output_type": "stream",
     "text": [
      "{ lambda  ; a b.\n",
      "  let \n",
      "  in (b,) }\n"
     ]
    }
   ],
   "source": [
    "print(jax.make_jaxpr(f_grid)(discr_params, u_params))"
   ]
  },
  {
   "cell_type": "markdown",
   "id": "5a3cc8bf",
   "metadata": {},
   "source": [
    "## Implementation of operators\n",
    "\n",
    "Starting with our function $f(x) = F_\\lambda(x;\\theta)$, this function is fully specified given the family $F_\\lambda$ and parameters $\\theta$. In general, an operator $T$ maps functions to functions. The new function will be given by a new set of parameters $\\theta'$, but can also belong to a new family of parameters.\n",
    "\n",
    "As an example, assume that $f(x) = \\theta x$ is our family of functions. The operator $\\partial_x$ maps $f$ to $g(x) = \\partial_x f(x) = \\theta$, which is clearly a different family of functions. Note that this view is different than what is assumed in Finite Element.\n",
    "\n",
    "If the function is instead parametrized as $f(x) = \\theta_1 e^{\\theta_2 x}$, then the same operator maps it to $g(x) = \\partial_x f(x) = \\theta_1\\theta_2e^{\\theta_2x}$. This new function belongs to the same family of functions, with the parameters transformed as\n",
    "\n",
    "$$\n",
    "(\\theta_1, \\theta_2) \\to (\\theta_1\\theta_2, \\theta_2)\n",
    "$$\n",
    "\n",
    "To accomodate both those views, and in general to let the user freely choose between quickly experimenting with complex models, or optimize the performance of a specific operator for a specific discretization, an operator is modeled as a function that maps a pair of parameters and function family with a new pair, that is\n",
    "\n",
    "$$\n",
    "T(\\theta, F) \\to (\\theta',G)\n",
    "$$\n",
    "\n",
    "Binary operators, such as addition `+`, are defined in the same way\n",
    "\n",
    "$$\n",
    "B(\\theta_1,\\theta_2,F_1,F_2) \\to (\\theta',G)\n",
    "$$\n",
    "\n",
    "Note that although this means that binary operations need to be explicitly described for each possible pair of families, we can most often define this in general. Getting back to the addition example, we can always write\n",
    "\n",
    "\\begin{align*}\n",
    "\\theta'& \\leftarrow [\\theta_1, \\theta_2] \\\\\n",
    "G(\\theta',x) &\\leftarrow F_1(\\theta'[0],x) + F_2(\\theta'[1],x)\n",
    "\\end{align*}\n",
    "\n",
    "This is the default behaviour that `jaxdf` discretization follow: if no special method is given, the most general version of the operator is used.\n",
    "\n",
    "One of the aims of `jaxdf` is to be fully differentiable. This means that we want to be able to evaluate gradients (with `autograd`) with respect to an arbitrary chain of operators."
   ]
  },
  {
   "cell_type": "code",
   "execution_count": 71,
   "id": "be1abb79-5417-4b6d-87fc-515759f81a13",
   "metadata": {},
   "outputs": [],
   "source": [
    "from jaxdf.core import operator\n",
    "from jax import numpy as jnp\n",
    "from jaxdf import operators as jops\n",
    "from jax import numpy as jnp\n",
    "\n",
    "Tanh = jops.elementwise(jnp.tanh)\n",
    "\n",
    "@operator(debug=False)\n",
    "def custom_op(u,v):\n",
    "    a = 2*u\n",
    "    b = a + v\n",
    "    d = b + u\n",
    "    e = Tanh(d)\n",
    "    return u + e"
   ]
  },
  {
   "cell_type": "code",
   "execution_count": 72,
   "id": "bcb1b051-d482-486a-b121-297b425a1b71",
   "metadata": {},
   "outputs": [
    {
     "name": "stdout",
     "output_type": "stream",
     "text": [
      "DiscretizedOperator :: [RealFourierSeries], ['_nR'] \n",
      "\n",
      " Input fields: ('u', 'v')\n",
      "\n",
      "Discretization parameters: ('freq_grid',)\n",
      "\n",
      "Operations:\n",
      "- _jR: RealFourierSeries <-- mul_scalar ('u',)\n",
      "- _k5: RealFourierSeries <-- add ('_jR', 'v')\n",
      "- _l5: RealFourierSeries <-- add ('_k5', 'u')\n",
      "- _mO: RealFourierSeries <-- elementwise_tanh ('_l5',)\n",
      "- _nR: RealFourierSeries <-- add ('u', '_mO')\n",
      "\n",
      "-1.8401498\n"
     ]
    }
   ],
   "source": [
    "from jaxdf.core import Field\n",
    "\n",
    "# Fourier discretization\n",
    "seeds = random.split(seed, 2)\n",
    "u_params = fourier_discretization.random_field(seeds[0])\n",
    "v_params = fourier_discretization.random_field(seeds[1])\n",
    "u = Field(fourier_discretization, params=u_params, name='u')\n",
    "v = Field(fourier_discretization, params=v_params, name='u')\n",
    "\n",
    "# Compiling operator on the given discretization\n",
    "op = custom_op(u=u, v=v)\n",
    "print(op)\n",
    "\n",
    "# Jax function to compute the first field at an arbitrary position x=1.\n",
    "discr_params = op.discr_params\n",
    "input_params = {'u': u.params, 'v': v.params}\n",
    "n_field = op.get_field(0)\n",
    "n_field = jax.jit(n_field)\n",
    "\n",
    "value = n_field(discr_params, input_params, x = jnp.array([1.])) # jittable :D\n",
    "print(value)"
   ]
  },
  {
   "cell_type": "code",
   "execution_count": 59,
   "id": "45f3a5a9-dc7d-4aac-ba0c-e74a22c62668",
   "metadata": {},
   "outputs": [
    {
     "name": "stdout",
     "output_type": "stream",
     "text": [
      "200 µs ± 16.6 µs per loop (mean ± std. dev. of 7 runs, 1000 loops each)\n"
     ]
    }
   ],
   "source": [
    "%timeit n_field(discr_params, input_params, 1.).block_until_ready()"
   ]
  },
  {
   "cell_type": "code",
   "execution_count": 60,
   "id": "a738b992-273b-4309-a0fb-23a76b52bdac",
   "metadata": {},
   "outputs": [
    {
     "name": "stdout",
     "output_type": "stream",
     "text": [
      "{ lambda  ; a b c.\n",
      "  let d = xla_call[ backend=None\n",
      "                    call_jaxpr={ lambda  ; a b c.\n",
      "                                 let d = mul b 2.0\n",
      "                                     e = add d c\n",
      "                                     f = add e b\n",
      "                                     g = tanh f\n",
      "                                     h = add b g\n",
      "                                 in (h,) }\n",
      "                    device=None\n",
      "                    donated_invars=(False, False, False)\n",
      "                    inline=False\n",
      "                    name=wrapped_f ] a b c\n",
      "  in (d,) }\n"
     ]
    }
   ],
   "source": [
    "n_field = op.get_field_on_grid(0)\n",
    "n_field = jax.jit(n_field)\n",
    "\n",
    "print(jax.make_jaxpr(n_field)(discr_params, input_params))"
   ]
  },
  {
   "cell_type": "code",
   "execution_count": 62,
   "id": "af38918d-3427-46d5-9153-47825126ff9f",
   "metadata": {},
   "outputs": [
    {
     "name": "stdout",
     "output_type": "stream",
     "text": [
      "52.9 µs ± 130 ns per loop (mean ± std. dev. of 7 runs, 10000 loops each)\n"
     ]
    }
   ],
   "source": [
    "%timeit n_field(discr_params, input_params).block_until_ready()"
   ]
  },
  {
   "cell_type": "code",
   "execution_count": 63,
   "id": "d8b9ee9e-e92c-4468-a107-4f4c3cb70e42",
   "metadata": {},
   "outputs": [
    {
     "data": {
      "text/plain": [
       "DeviceArray(0.00648867, dtype=float32)"
      ]
     },
     "execution_count": 63,
     "metadata": {},
     "output_type": "execute_result"
    }
   ],
   "source": [
    "from jax import numpy as jnp\n",
    "from jax.example_libraries import stax\n",
    "\n",
    "init_random_params, predict = stax.serial(\n",
    "    stax.Dense(1024), stax.Relu,\n",
    "    stax.Dense(1024), stax.Relu,\n",
    "    stax.Dense(1))\n",
    "\n",
    "init_params = lambda seed, domain: init_random_params(seed, (1,))[1]\n",
    "\n",
    "\n",
    "def get_fun(params, x):\n",
    "    return predict(params, x)[0,0]\n",
    "\n",
    "params = init_params(seeds[0], None)\n",
    "get_fun(params, 1.)"
   ]
  },
  {
   "cell_type": "code",
   "execution_count": 68,
   "id": "bcdecc08-6dae-4723-85ef-56ce9fb06740",
   "metadata": {},
   "outputs": [
    {
     "name": "stdout",
     "output_type": "stream",
     "text": [
      "Sorted graph for _mO:\n",
      "{'_jR', '_mO', '_l5', 'u', 'v', '_k5'}\n",
      "\n",
      "DiscretizedOperator :: [Arbitrary], ['_mO'] \n",
      "\n",
      " Input fields: ('u', 'v')\n",
      "\n",
      "Discretization parameters: ('coordinate_grid',)\n",
      "\n",
      "Operations:\n",
      "- _jR: Arbitrary <-- join ('u', 'v')\n",
      "- _k5: Arbitrary <-- join ('u', '_jR')\n",
      "- _l5: Arbitrary <-- identity ('_k5',)\n",
      "- _mO: Arbitrary <-- identity ('_l5',)\n",
      "\n",
      "2.0138493\n"
     ]
    }
   ],
   "source": [
    "# Reusing the operator with a neural network discretization\n",
    "from jax.example_libraries import stax\n",
    "from functools import partial\n",
    "from jaxdf.discretization import Arbitrary\n",
    "\n",
    "init_random_params, predict = stax.serial(\n",
    "    stax.Dense(128), stax.Relu,\n",
    "    stax.Dense(128), stax.Relu,\n",
    "    stax.Dense(1))\n",
    "\n",
    "init_params = lambda seed, domain: init_random_params(seed, (1,))[1]\n",
    "\n",
    "def get_fun(discr_params, params, x):\n",
    "    return predict(params, x)[0,0]\n",
    "\n",
    "pinn_discretization = Arbitrary(domain, get_fun, init_params)\n",
    "\n",
    "u_params = pinn_discretization.random_field(seeds[0])\n",
    "v_params = pinn_discretization.random_field(seeds[1])    \n",
    "\n",
    "u = Field(pinn_discretization, params=u_params, name='u')\n",
    "v = Field(pinn_discretization, params=v_params, name='u')\n",
    "\n",
    "@operator(debug=True)\n",
    "def custom_op(u,v):\n",
    "    a = u+v\n",
    "    return Tanh(u*a)+2\n",
    "\n",
    "op = custom_op(u=u, v=v)\n",
    "print(op)\n",
    "\n",
    "# Jax function to compute the first field at an arbitrary position x=1.\n",
    "discr_params = op.discr_params\n",
    "input_params = {'u': u.params, 'v': v.params}\n",
    "n_field = op.get_field(0)\n",
    "\n",
    "value = n_field(discr_params, input_params, 1.)\n",
    "print(value)"
   ]
  },
  {
   "cell_type": "code",
   "execution_count": 69,
   "id": "c4965eeb-f64a-4c2b-9e1b-90562baad2c3",
   "metadata": {},
   "outputs": [],
   "source": [
    "n_field = jax.jit(op.get_field(0))"
   ]
  },
  {
   "cell_type": "code",
   "execution_count": 70,
   "id": "b2f89d52-f996-4e37-bfbc-63f86b838a5b",
   "metadata": {},
   "outputs": [
    {
     "name": "stdout",
     "output_type": "stream",
     "text": [
      "57.6 µs ± 1.01 µs per loop (mean ± std. dev. of 7 runs, 10000 loops each)\n"
     ]
    }
   ],
   "source": [
    "%timeit n_field(discr_params, input_params, 1.).block_until_ready()"
   ]
  },
  {
   "cell_type": "code",
   "execution_count": null,
   "id": "a41ae1f8-6717-4d6e-80f3-68f8ede5ae38",
   "metadata": {},
   "outputs": [],
   "source": []
  }
 ],
 "metadata": {
  "jupytext": {
   "formats": "ipynb,md"
  },
  "kernelspec": {
   "display_name": "Python 3 (ipykernel)",
   "language": "python",
   "name": "python3"
  },
  "language_info": {
   "codemirror_mode": {
    "name": "ipython",
    "version": 3
   },
   "file_extension": ".py",
   "mimetype": "text/x-python",
   "name": "python",
   "nbconvert_exporter": "python",
   "pygments_lexer": "ipython3",
   "version": "3.9.7"
  }
 },
 "nbformat": 4,
 "nbformat_minor": 5
}
